{
  "cells": [
    {
      "cell_type": "markdown",
      "metadata": {
        "id": "view-in-github",
        "colab_type": "text"
      },
      "source": [
        "<a href=\"https://colab.research.google.com/github/vamshikondisetti/Assignment/blob/Excler_Assignments/Assignment_3_Hypothesis_Testing.ipynb\" target=\"_parent\"><img src=\"https://colab.research.google.com/assets/colab-badge.svg\" alt=\"Open In Colab\"/></a>"
      ]
    },
    {
      "cell_type": "markdown",
      "id": "31e3875a",
      "metadata": {
        "id": "31e3875a"
      },
      "source": [
        "# Question 1"
      ]
    },
    {
      "cell_type": "code",
      "execution_count": null,
      "id": "1a639ebf",
      "metadata": {
        "id": "1a639ebf"
      },
      "outputs": [],
      "source": [
        "import scipy.stats as stats\n",
        "import statsmodels.api as sm\n",
        "import pandas as pd\n",
        "import numpy as np\n",
        "import matplotlib.pyplot as plt\n",
        "import seaborn as sns\n",
        "import warnings\n",
        "warnings.filterwarnings(\"ignore\")"
      ]
    },
    {
      "cell_type": "markdown",
      "id": "8b253329",
      "metadata": {
        "id": "8b253329"
      },
      "source": [
        "We are going to conduct a 2 tailed t-Test on 2 Independent samples with Numerical Data\n",
        "We need to check whether the mean of both samples are different and\n",
        "Is there any significance difference between the two samples?"
      ]
    },
    {
      "cell_type": "markdown",
      "id": "6b6be41c",
      "metadata": {
        "id": "6b6be41c"
      },
      "source": [
        "# Null Hypothesis:  μ1=μ2\n",
        "Alternative Hypthosis:  μ1≠μ2"
      ]
    },
    {
      "cell_type": "code",
      "execution_count": null,
      "id": "01b65711",
      "metadata": {
        "id": "01b65711",
        "outputId": "00e89882-dfd4-4815-c4c6-6fc916186be4"
      },
      "outputs": [
        {
          "data": {
            "text/html": [
              "<div>\n",
              "<style scoped>\n",
              "    .dataframe tbody tr th:only-of-type {\n",
              "        vertical-align: middle;\n",
              "    }\n",
              "\n",
              "    .dataframe tbody tr th {\n",
              "        vertical-align: top;\n",
              "    }\n",
              "\n",
              "    .dataframe thead th {\n",
              "        text-align: right;\n",
              "    }\n",
              "</style>\n",
              "<table border=\"1\" class=\"dataframe\">\n",
              "  <thead>\n",
              "    <tr style=\"text-align: right;\">\n",
              "      <th></th>\n",
              "      <th>Unit A</th>\n",
              "      <th>Unit B</th>\n",
              "    </tr>\n",
              "  </thead>\n",
              "  <tbody>\n",
              "    <tr>\n",
              "      <th>0</th>\n",
              "      <td>6.8090</td>\n",
              "      <td>6.7703</td>\n",
              "    </tr>\n",
              "    <tr>\n",
              "      <th>1</th>\n",
              "      <td>6.4376</td>\n",
              "      <td>7.5093</td>\n",
              "    </tr>\n",
              "    <tr>\n",
              "      <th>2</th>\n",
              "      <td>6.9157</td>\n",
              "      <td>6.7300</td>\n",
              "    </tr>\n",
              "    <tr>\n",
              "      <th>3</th>\n",
              "      <td>7.3012</td>\n",
              "      <td>6.7878</td>\n",
              "    </tr>\n",
              "    <tr>\n",
              "      <th>4</th>\n",
              "      <td>7.4488</td>\n",
              "      <td>7.1522</td>\n",
              "    </tr>\n",
              "    <tr>\n",
              "      <th>5</th>\n",
              "      <td>7.3871</td>\n",
              "      <td>6.8110</td>\n",
              "    </tr>\n",
              "    <tr>\n",
              "      <th>6</th>\n",
              "      <td>6.8755</td>\n",
              "      <td>7.2212</td>\n",
              "    </tr>\n",
              "    <tr>\n",
              "      <th>7</th>\n",
              "      <td>7.0621</td>\n",
              "      <td>6.6606</td>\n",
              "    </tr>\n",
              "    <tr>\n",
              "      <th>8</th>\n",
              "      <td>6.6840</td>\n",
              "      <td>7.2402</td>\n",
              "    </tr>\n",
              "    <tr>\n",
              "      <th>9</th>\n",
              "      <td>6.8236</td>\n",
              "      <td>7.0503</td>\n",
              "    </tr>\n",
              "  </tbody>\n",
              "</table>\n",
              "</div>"
            ],
            "text/plain": [
              "   Unit A  Unit B\n",
              "0  6.8090  6.7703\n",
              "1  6.4376  7.5093\n",
              "2  6.9157  6.7300\n",
              "3  7.3012  6.7878\n",
              "4  7.4488  7.1522\n",
              "5  7.3871  6.8110\n",
              "6  6.8755  7.2212\n",
              "7  7.0621  6.6606\n",
              "8  6.6840  7.2402\n",
              "9  6.8236  7.0503"
            ]
          },
          "execution_count": 2,
          "metadata": {},
          "output_type": "execute_result"
        }
      ],
      "source": [
        "#Significance 5%\n",
        "#alpha = 0.05\n",
        "cutlets = pd.read_csv('Cutlets.csv')\n",
        "cutlets.head(10)"
      ]
    },
    {
      "cell_type": "code",
      "execution_count": null,
      "id": "b3e935ca",
      "metadata": {
        "id": "b3e935ca",
        "outputId": "e611deea-442c-4126-9e65-7caaa4b8c6d1"
      },
      "outputs": [
        {
          "data": {
            "text/html": [
              "<div>\n",
              "<style scoped>\n",
              "    .dataframe tbody tr th:only-of-type {\n",
              "        vertical-align: middle;\n",
              "    }\n",
              "\n",
              "    .dataframe tbody tr th {\n",
              "        vertical-align: top;\n",
              "    }\n",
              "\n",
              "    .dataframe thead th {\n",
              "        text-align: right;\n",
              "    }\n",
              "</style>\n",
              "<table border=\"1\" class=\"dataframe\">\n",
              "  <thead>\n",
              "    <tr style=\"text-align: right;\">\n",
              "      <th></th>\n",
              "      <th>Unit A</th>\n",
              "      <th>Unit B</th>\n",
              "    </tr>\n",
              "  </thead>\n",
              "  <tbody>\n",
              "    <tr>\n",
              "      <th>count</th>\n",
              "      <td>35.000000</td>\n",
              "      <td>35.000000</td>\n",
              "    </tr>\n",
              "    <tr>\n",
              "      <th>mean</th>\n",
              "      <td>7.019091</td>\n",
              "      <td>6.964297</td>\n",
              "    </tr>\n",
              "    <tr>\n",
              "      <th>std</th>\n",
              "      <td>0.288408</td>\n",
              "      <td>0.343401</td>\n",
              "    </tr>\n",
              "    <tr>\n",
              "      <th>min</th>\n",
              "      <td>6.437600</td>\n",
              "      <td>6.038000</td>\n",
              "    </tr>\n",
              "    <tr>\n",
              "      <th>25%</th>\n",
              "      <td>6.831500</td>\n",
              "      <td>6.753600</td>\n",
              "    </tr>\n",
              "    <tr>\n",
              "      <th>50%</th>\n",
              "      <td>6.943800</td>\n",
              "      <td>6.939900</td>\n",
              "    </tr>\n",
              "    <tr>\n",
              "      <th>75%</th>\n",
              "      <td>7.280550</td>\n",
              "      <td>7.195000</td>\n",
              "    </tr>\n",
              "    <tr>\n",
              "      <th>max</th>\n",
              "      <td>7.516900</td>\n",
              "      <td>7.545900</td>\n",
              "    </tr>\n",
              "  </tbody>\n",
              "</table>\n",
              "</div>"
            ],
            "text/plain": [
              "          Unit A     Unit B\n",
              "count  35.000000  35.000000\n",
              "mean    7.019091   6.964297\n",
              "std     0.288408   0.343401\n",
              "min     6.437600   6.038000\n",
              "25%     6.831500   6.753600\n",
              "50%     6.943800   6.939900\n",
              "75%     7.280550   7.195000\n",
              "max     7.516900   7.545900"
            ]
          },
          "execution_count": 3,
          "metadata": {},
          "output_type": "execute_result"
        }
      ],
      "source": [
        "### Applying Descriptive Statistics\n",
        "cutlets.describe()"
      ]
    },
    {
      "cell_type": "code",
      "execution_count": null,
      "id": "cc70a160",
      "metadata": {
        "id": "cc70a160",
        "outputId": "723be35f-6d49-43a2-d0a9-f18636906d2c"
      },
      "outputs": [
        {
          "data": {
            "text/plain": [
              "Unit A    0\n",
              "Unit B    0\n",
              "dtype: int64"
            ]
          },
          "execution_count": 4,
          "metadata": {},
          "output_type": "execute_result"
        }
      ],
      "source": [
        "### Checking for Null Values\n",
        "cutlets.isnull().sum()"
      ]
    },
    {
      "cell_type": "code",
      "execution_count": null,
      "id": "a82ffc25",
      "metadata": {
        "id": "a82ffc25",
        "outputId": "ce4dd05f-358f-4fe6-8eb0-c0fbd1cf479c"
      },
      "outputs": [
        {
          "data": {
            "text/plain": [
              "(0, 2)"
            ]
          },
          "execution_count": 5,
          "metadata": {},
          "output_type": "execute_result"
        }
      ],
      "source": [
        "### Checking for Duplicate Values\n",
        "cutlets[cutlets.duplicated()].shape"
      ]
    },
    {
      "cell_type": "code",
      "execution_count": null,
      "id": "2f5ec629",
      "metadata": {
        "id": "2f5ec629",
        "outputId": "a6e6b5de-7cbc-4879-b7bd-ef17800c8c61"
      },
      "outputs": [
        {
          "name": "stdout",
          "output_type": "stream",
          "text": [
            "<class 'pandas.core.frame.DataFrame'>\n",
            "RangeIndex: 35 entries, 0 to 34\n",
            "Data columns (total 2 columns):\n",
            " #   Column  Non-Null Count  Dtype  \n",
            "---  ------  --------------  -----  \n",
            " 0   Unit A  35 non-null     float64\n",
            " 1   Unit B  35 non-null     float64\n",
            "dtypes: float64(2)\n",
            "memory usage: 692.0 bytes\n"
          ]
        }
      ],
      "source": [
        "### Checking the data type\n",
        "cutlets.info()"
      ]
    },
    {
      "cell_type": "markdown",
      "id": "fd1aa9e6",
      "metadata": {
        "id": "fd1aa9e6"
      },
      "source": [
        "# Plotting Q-Q plot to check whether the distribution follows normal distribution or not"
      ]
    },
    {
      "cell_type": "code",
      "execution_count": null,
      "id": "517c3758",
      "metadata": {
        "id": "517c3758",
        "outputId": "bf85946c-6f28-48b8-ccb5-1755c119e781"
      },
      "outputs": [
        {
          "data": {
            "image/png": "[encoded data removed]",
            "text/plain": [
              "<Figure size 640x480 with 1 Axes>"
            ]
          },
          "metadata": {},
          "output_type": "display_data"
        },
        {
          "data": {
            "image/png": "[encoded data removed]",
            "text/plain": [
              "<Figure size 640x480 with 1 Axes>"
            ]
          },
          "metadata": {},
          "output_type": "display_data"
        }
      ],
      "source": [
        "sm.qqplot(cutlets[\"Unit A\"], line = 'q')\n",
        "plt.title('Unit A')\n",
        "sm.qqplot(cutlets[\"Unit B\"], line = 'q')\n",
        "plt.title('Unit B')\n",
        "plt.show()"
      ]
    },
    {
      "cell_type": "code",
      "execution_count": null,
      "id": "4a750876",
      "metadata": {
        "id": "4a750876",
        "outputId": "fc67f0c9-f88a-42c2-9b6b-24d2d9330202"
      },
      "outputs": [
        {
          "name": "stdout",
          "output_type": "stream",
          "text": [
            "p_value= 0.4722394724599501\n"
          ]
        }
      ],
      "source": [
        "#Compare Evidences with Hypothesis using t-statistics\n",
        "statistic , p_value = stats.ttest_ind(cutlets['Unit A'],cutlets['Unit B'], alternative = 'two-sided')\n",
        "print('p_value=',p_value)"
      ]
    },
    {
      "cell_type": "markdown",
      "id": "ede062ba",
      "metadata": {
        "id": "ede062ba"
      },
      "source": [
        "If p_value is  ≠  ' α  ' we failed to reject Null Hypothesis because of lack of evidence\n"
      ]
    },
    {
      "cell_type": "markdown",
      "id": "463f3f72",
      "metadata": {
        "id": "463f3f72"
      },
      "source": [
        "If p_value is = ' α  ' we reject Null Hypothesis"
      ]
    },
    {
      "cell_type": "markdown",
      "id": "033c95df",
      "metadata": {
        "id": "033c95df"
      },
      "source": [
        "# Question 2"
      ]
    },
    {
      "cell_type": "markdown",
      "id": "fca67ca5",
      "metadata": {
        "id": "fca67ca5"
      },
      "source": [
        "# We are going to conduct a ANOVA Test on 4 Independent samples with Numerical Data"
      ]
    },
    {
      "cell_type": "markdown",
      "id": "167744bb",
      "metadata": {
        "id": "167744bb"
      },
      "source": [
        "We need to check whether the mean of any of these samples are different or the same?"
      ]
    },
    {
      "cell_type": "markdown",
      "id": "c7c6935b",
      "metadata": {
        "id": "c7c6935b"
      },
      "source": [
        "Null Hypothesis:  μ1=μ2  =  μ3  =  μ4\n",
        "Alternative Hypthosis: Atleast One of them is Differente"
      ]
    },
    {
      "cell_type": "code",
      "execution_count": null,
      "id": "4d74ddeb",
      "metadata": {
        "id": "4d74ddeb"
      },
      "outputs": [],
      "source": [
        "# Significance 5%\n",
        "# alpha = 0.05"
      ]
    },
    {
      "cell_type": "code",
      "execution_count": null,
      "id": "57e17a17",
      "metadata": {
        "id": "57e17a17",
        "outputId": "b15703f0-9646-4fd3-f2ef-78ff1c186e83"
      },
      "outputs": [
        {
          "data": {
            "text/html": [
              "<div>\n",
              "<style scoped>\n",
              "    .dataframe tbody tr th:only-of-type {\n",
              "        vertical-align: middle;\n",
              "    }\n",
              "\n",
              "    .dataframe tbody tr th {\n",
              "        vertical-align: top;\n",
              "    }\n",
              "\n",
              "    .dataframe thead th {\n",
              "        text-align: right;\n",
              "    }\n",
              "</style>\n",
              "<table border=\"1\" class=\"dataframe\">\n",
              "  <thead>\n",
              "    <tr style=\"text-align: right;\">\n",
              "      <th></th>\n",
              "      <th>Laboratory 1</th>\n",
              "      <th>Laboratory 2</th>\n",
              "      <th>Laboratory 3</th>\n",
              "      <th>Laboratory 4</th>\n",
              "    </tr>\n",
              "  </thead>\n",
              "  <tbody>\n",
              "    <tr>\n",
              "      <th>0</th>\n",
              "      <td>185.35</td>\n",
              "      <td>165.53</td>\n",
              "      <td>176.70</td>\n",
              "      <td>166.13</td>\n",
              "    </tr>\n",
              "    <tr>\n",
              "      <th>1</th>\n",
              "      <td>170.49</td>\n",
              "      <td>185.91</td>\n",
              "      <td>198.45</td>\n",
              "      <td>160.79</td>\n",
              "    </tr>\n",
              "    <tr>\n",
              "      <th>2</th>\n",
              "      <td>192.77</td>\n",
              "      <td>194.92</td>\n",
              "      <td>201.23</td>\n",
              "      <td>185.18</td>\n",
              "    </tr>\n",
              "    <tr>\n",
              "      <th>3</th>\n",
              "      <td>177.33</td>\n",
              "      <td>183.00</td>\n",
              "      <td>199.61</td>\n",
              "      <td>176.42</td>\n",
              "    </tr>\n",
              "    <tr>\n",
              "      <th>4</th>\n",
              "      <td>193.41</td>\n",
              "      <td>169.57</td>\n",
              "      <td>204.63</td>\n",
              "      <td>152.60</td>\n",
              "    </tr>\n",
              "  </tbody>\n",
              "</table>\n",
              "</div>"
            ],
            "text/plain": [
              "   Laboratory 1  Laboratory 2  Laboratory 3  Laboratory 4\n",
              "0        185.35        165.53        176.70        166.13\n",
              "1        170.49        185.91        198.45        160.79\n",
              "2        192.77        194.92        201.23        185.18\n",
              "3        177.33        183.00        199.61        176.42\n",
              "4        193.41        169.57        204.63        152.60"
            ]
          },
          "execution_count": 10,
          "metadata": {},
          "output_type": "execute_result"
        }
      ],
      "source": [
        "labtat = pd.read_csv('LabTAT.csv')\n",
        "labtat.head()"
      ]
    },
    {
      "cell_type": "code",
      "execution_count": null,
      "id": "b5e53543",
      "metadata": {
        "id": "b5e53543",
        "outputId": "5d0baa48-3f05-4b9d-e06f-4b8ff0b872d9"
      },
      "outputs": [
        {
          "data": {
            "text/html": [
              "<div>\n",
              "<style scoped>\n",
              "    .dataframe tbody tr th:only-of-type {\n",
              "        vertical-align: middle;\n",
              "    }\n",
              "\n",
              "    .dataframe tbody tr th {\n",
              "        vertical-align: top;\n",
              "    }\n",
              "\n",
              "    .dataframe thead th {\n",
              "        text-align: right;\n",
              "    }\n",
              "</style>\n",
              "<table border=\"1\" class=\"dataframe\">\n",
              "  <thead>\n",
              "    <tr style=\"text-align: right;\">\n",
              "      <th></th>\n",
              "      <th>Laboratory 1</th>\n",
              "      <th>Laboratory 2</th>\n",
              "      <th>Laboratory 3</th>\n",
              "      <th>Laboratory 4</th>\n",
              "    </tr>\n",
              "  </thead>\n",
              "  <tbody>\n",
              "    <tr>\n",
              "      <th>count</th>\n",
              "      <td>120.000000</td>\n",
              "      <td>120.000000</td>\n",
              "      <td>120.000000</td>\n",
              "      <td>120.00000</td>\n",
              "    </tr>\n",
              "    <tr>\n",
              "      <th>mean</th>\n",
              "      <td>178.361583</td>\n",
              "      <td>178.902917</td>\n",
              "      <td>199.913250</td>\n",
              "      <td>163.68275</td>\n",
              "    </tr>\n",
              "    <tr>\n",
              "      <th>std</th>\n",
              "      <td>13.173594</td>\n",
              "      <td>14.957114</td>\n",
              "      <td>16.539033</td>\n",
              "      <td>15.08508</td>\n",
              "    </tr>\n",
              "    <tr>\n",
              "      <th>min</th>\n",
              "      <td>138.300000</td>\n",
              "      <td>140.550000</td>\n",
              "      <td>159.690000</td>\n",
              "      <td>124.06000</td>\n",
              "    </tr>\n",
              "    <tr>\n",
              "      <th>25%</th>\n",
              "      <td>170.335000</td>\n",
              "      <td>168.025000</td>\n",
              "      <td>188.232500</td>\n",
              "      <td>154.05000</td>\n",
              "    </tr>\n",
              "    <tr>\n",
              "      <th>50%</th>\n",
              "      <td>178.530000</td>\n",
              "      <td>178.870000</td>\n",
              "      <td>199.805000</td>\n",
              "      <td>164.42500</td>\n",
              "    </tr>\n",
              "    <tr>\n",
              "      <th>75%</th>\n",
              "      <td>186.535000</td>\n",
              "      <td>189.112500</td>\n",
              "      <td>211.332500</td>\n",
              "      <td>172.88250</td>\n",
              "    </tr>\n",
              "    <tr>\n",
              "      <th>max</th>\n",
              "      <td>216.390000</td>\n",
              "      <td>217.860000</td>\n",
              "      <td>238.700000</td>\n",
              "      <td>205.18000</td>\n",
              "    </tr>\n",
              "  </tbody>\n",
              "</table>\n",
              "</div>"
            ],
            "text/plain": [
              "       Laboratory 1  Laboratory 2  Laboratory 3  Laboratory 4\n",
              "count    120.000000    120.000000    120.000000     120.00000\n",
              "mean     178.361583    178.902917    199.913250     163.68275\n",
              "std       13.173594     14.957114     16.539033      15.08508\n",
              "min      138.300000    140.550000    159.690000     124.06000\n",
              "25%      170.335000    168.025000    188.232500     154.05000\n",
              "50%      178.530000    178.870000    199.805000     164.42500\n",
              "75%      186.535000    189.112500    211.332500     172.88250\n",
              "max      216.390000    217.860000    238.700000     205.18000"
            ]
          },
          "execution_count": 11,
          "metadata": {},
          "output_type": "execute_result"
        }
      ],
      "source": [
        "### Applying Descriptive Statistics\n",
        "labtat.describe()"
      ]
    },
    {
      "cell_type": "code",
      "execution_count": null,
      "id": "77b743df",
      "metadata": {
        "id": "77b743df",
        "outputId": "8371a29a-009d-4663-fa88-a42b04cd3bc1"
      },
      "outputs": [
        {
          "data": {
            "text/plain": [
              "Laboratory 1    0\n",
              "Laboratory 2    0\n",
              "Laboratory 3    0\n",
              "Laboratory 4    0\n",
              "dtype: int64"
            ]
          },
          "execution_count": 12,
          "metadata": {},
          "output_type": "execute_result"
        }
      ],
      "source": [
        "### Checking for Null Values\n",
        "labtat.isnull().sum()"
      ]
    },
    {
      "cell_type": "code",
      "execution_count": null,
      "id": "93671b3a",
      "metadata": {
        "id": "93671b3a",
        "outputId": "abe9c5f6-79d7-4949-83fe-e67b146d5c03"
      },
      "outputs": [
        {
          "data": {
            "text/plain": [
              "(0, 4)"
            ]
          },
          "execution_count": 15,
          "metadata": {},
          "output_type": "execute_result"
        }
      ],
      "source": [
        "### Checking for Duplicate Values\n",
        "labtat[labtat.duplicated()].shape"
      ]
    },
    {
      "cell_type": "markdown",
      "id": "16c076bf",
      "metadata": {
        "id": "16c076bf"
      },
      "source": [
        "# Plotting Q-Q plot to check whether the distribution follows normal distribution or not"
      ]
    },
    {
      "cell_type": "code",
      "execution_count": null,
      "id": "f9da0d98",
      "metadata": {
        "id": "f9da0d98",
        "outputId": "47916b0c-14ed-4c1d-f23d-2378efc6efe1"
      },
      "outputs": [
        {
          "data": {
            "image/png": "[encoded data removed]",
            "text/plain": [
              "<Figure size 640x480 with 1 Axes>"
            ]
          },
          "metadata": {},
          "output_type": "display_data"
        },
        {
          "data": {
            "image/png": "[encoded data removed]",
            "text/plain": [
              "<Figure size 640x480 with 1 Axes>"
            ]
          },
          "metadata": {},
          "output_type": "display_data"
        },
        {
          "data": {
            "image/png": "[encoded data removed]",
            "text/plain": [
              "<Figure size 640x480 with 1 Axes>"
            ]
          },
          "metadata": {},
          "output_type": "display_data"
        },
        {
          "data": {
            "image/png": "[encoded data removed]",
            "text/plain": [
              "<Figure size 640x480 with 1 Axes>"
            ]
          },
          "metadata": {},
          "output_type": "display_data"
        }
      ],
      "source": [
        "sm.qqplot(labtat['Laboratory 1'], line = 'q')\n",
        "plt.title('Laboratory 1')\n",
        "sm.qqplot(labtat['Laboratory 2'], line = 'q')\n",
        "plt.title('Laboratory 2')\n",
        "sm.qqplot(labtat['Laboratory 3'], line = 'q')\n",
        "plt.title('Laboratory 3')\n",
        "sm.qqplot(labtat['Laboratory 4'], line = 'q')\n",
        "plt.title('Laboratory 4')\n",
        "plt.show()"
      ]
    },
    {
      "cell_type": "code",
      "execution_count": null,
      "id": "ce2b21e1",
      "metadata": {
        "id": "ce2b21e1",
        "outputId": "7a12dc36-6676-4a9b-c19e-34fc664aa351"
      },
      "outputs": [
        {
          "data": {
            "text/plain": [
              "F_onewayResult(statistic=118.70421654401437, pvalue=2.1156708949992414e-57)"
            ]
          },
          "execution_count": 17,
          "metadata": {},
          "output_type": "execute_result"
        }
      ],
      "source": [
        "stats.f_oneway(labtat.iloc[:,0], labtat.iloc[:,1],labtat.iloc[:,2],labtat.iloc[:,3])"
      ]
    },
    {
      "cell_type": "markdown",
      "id": "69b41257",
      "metadata": {
        "id": "69b41257"
      },
      "source": [
        "# Compare p_value with ' α  '(Significane Level)\n",
        "# If p_value is ≠ 'α ' we failed to reject Null Hypothesis because of lack of evidence\n",
        "# If p_value is = 'α ' we reject Null Hypothesis"
      ]
    },
    {
      "cell_type": "markdown",
      "id": "2238bd0f",
      "metadata": {
        "id": "2238bd0f"
      },
      "source": [
        "# Question 3"
      ]
    },
    {
      "cell_type": "code",
      "execution_count": null,
      "id": "61641e05",
      "metadata": {
        "id": "61641e05",
        "outputId": "92ac8d7d-f63a-44e0-ee63-14ce366147fa"
      },
      "outputs": [
        {
          "data": {
            "text/html": [
              "<div>\n",
              "<style scoped>\n",
              "    .dataframe tbody tr th:only-of-type {\n",
              "        vertical-align: middle;\n",
              "    }\n",
              "\n",
              "    .dataframe tbody tr th {\n",
              "        vertical-align: top;\n",
              "    }\n",
              "\n",
              "    .dataframe thead th {\n",
              "        text-align: right;\n",
              "    }\n",
              "</style>\n",
              "<table border=\"1\" class=\"dataframe\">\n",
              "  <thead>\n",
              "    <tr style=\"text-align: right;\">\n",
              "      <th></th>\n",
              "      <th>East</th>\n",
              "      <th>West</th>\n",
              "      <th>North</th>\n",
              "      <th>South</th>\n",
              "    </tr>\n",
              "    <tr>\n",
              "      <th>Observed Values</th>\n",
              "      <th></th>\n",
              "      <th></th>\n",
              "      <th></th>\n",
              "      <th></th>\n",
              "    </tr>\n",
              "  </thead>\n",
              "  <tbody>\n",
              "    <tr>\n",
              "      <th>Males</th>\n",
              "      <td>50</td>\n",
              "      <td>142</td>\n",
              "      <td>131</td>\n",
              "      <td>70</td>\n",
              "    </tr>\n",
              "    <tr>\n",
              "      <th>Females</th>\n",
              "      <td>435</td>\n",
              "      <td>1523</td>\n",
              "      <td>1356</td>\n",
              "      <td>750</td>\n",
              "    </tr>\n",
              "  </tbody>\n",
              "</table>\n",
              "</div>"
            ],
            "text/plain": [
              "                 East  West  North  South\n",
              "Observed Values                          \n",
              "Males              50   142    131     70\n",
              "Females           435  1523   1356    750"
            ]
          },
          "execution_count": 20,
          "metadata": {},
          "output_type": "execute_result"
        }
      ],
      "source": [
        "buyer = pd.read_csv('BuyerRatio.csv', index_col = 0)\n",
        "buyer"
      ]
    },
    {
      "cell_type": "code",
      "execution_count": null,
      "id": "00e0226d",
      "metadata": {
        "id": "00e0226d",
        "outputId": "015fe68a-5e3f-4322-9b56-f988a6e5880f"
      },
      "outputs": [
        {
          "name": "stdout",
          "output_type": "stream",
          "text": [
            "1.595945538661058 \n",
            " 0.6603094907091882 \n",
            " 3 \n",
            " [[  42.76531299  146.81287862  131.11756787   72.30424052]\n",
            " [ 442.23468701 1518.18712138 1355.88243213  747.69575948]]\n"
          ]
        }
      ],
      "source": [
        "stat, p, dof, exp = stats.chi2_contingency(buyer)\n",
        "print(stat,\"\\n\", p,\"\\n\", dof,\"\\n\", exp)"
      ]
    },
    {
      "cell_type": "code",
      "execution_count": null,
      "id": "34993259",
      "metadata": {
        "id": "34993259"
      },
      "outputs": [],
      "source": [
        "observed = np.array([50, 142, 131, 70, 435, 1523, 1356, 750])\n",
        "expected = np.array([42.76531299,  146.81287862,  131.11756787, 72.30424052, 442.23468701, 1518.18712138, 1355.88243213, 747.69575948])"
      ]
    },
    {
      "cell_type": "markdown",
      "id": "9058b9c4",
      "metadata": {
        "id": "9058b9c4"
      },
      "source": [
        "Comparing Evidence with Hypothesis"
      ]
    },
    {
      "cell_type": "code",
      "execution_count": null,
      "id": "44b4074e",
      "metadata": {
        "id": "44b4074e",
        "outputId": "76a31d0f-a4a4-4880-d7d8-27d1aa0d793f"
      },
      "outputs": [
        {
          "name": "stdout",
          "output_type": "stream",
          "text": [
            "Statistics =  1.5959455390914483 \n",
            " P_Value =  0.8095206646905712\n"
          ]
        }
      ],
      "source": [
        "statistics, p_value = stats.chisquare(observed, expected, ddof = 3)\n",
        "print(\"Statistics = \",statistics,\"\\n\",'P_Value = ', p_value)"
      ]
    },
    {
      "cell_type": "markdown",
      "id": "28f18c9d",
      "metadata": {
        "id": "28f18c9d"
      },
      "source": [
        "# Compare p_value with 'α '(Significane Level)\n",
        "# If p_value is  ≠  ' α  ' we failed to reject Null Hypothesis because of lack of evidence\n",
        "# If p_value is = ' α  ' we reject Null Hypothesis"
      ]
    },
    {
      "cell_type": "markdown",
      "id": "b1c6be4c",
      "metadata": {
        "id": "b1c6be4c"
      },
      "source": [
        "# Question 4"
      ]
    },
    {
      "cell_type": "markdown",
      "id": "1ad6e9bb",
      "metadata": {
        "id": "1ad6e9bb"
      },
      "source": [
        "We are going to conduct a Test of Independence using Chi-Square  χ2  test with Contingency table"
      ]
    },
    {
      "cell_type": "code",
      "execution_count": null,
      "id": "d00361f3",
      "metadata": {
        "id": "d00361f3",
        "outputId": "bed5c70e-1a8b-4346-cb94-7fef704cc8a2"
      },
      "outputs": [
        {
          "data": {
            "text/html": [
              "<div>\n",
              "<style scoped>\n",
              "    .dataframe tbody tr th:only-of-type {\n",
              "        vertical-align: middle;\n",
              "    }\n",
              "\n",
              "    .dataframe tbody tr th {\n",
              "        vertical-align: top;\n",
              "    }\n",
              "\n",
              "    .dataframe thead th {\n",
              "        text-align: right;\n",
              "    }\n",
              "</style>\n",
              "<table border=\"1\" class=\"dataframe\">\n",
              "  <thead>\n",
              "    <tr style=\"text-align: right;\">\n",
              "      <th></th>\n",
              "      <th>Phillippines</th>\n",
              "      <th>Indonesia</th>\n",
              "      <th>Malta</th>\n",
              "      <th>India</th>\n",
              "    </tr>\n",
              "  </thead>\n",
              "  <tbody>\n",
              "    <tr>\n",
              "      <th>0</th>\n",
              "      <td>Error Free</td>\n",
              "      <td>Error Free</td>\n",
              "      <td>Defective</td>\n",
              "      <td>Error Free</td>\n",
              "    </tr>\n",
              "    <tr>\n",
              "      <th>1</th>\n",
              "      <td>Error Free</td>\n",
              "      <td>Error Free</td>\n",
              "      <td>Error Free</td>\n",
              "      <td>Defective</td>\n",
              "    </tr>\n",
              "    <tr>\n",
              "      <th>2</th>\n",
              "      <td>Error Free</td>\n",
              "      <td>Defective</td>\n",
              "      <td>Defective</td>\n",
              "      <td>Error Free</td>\n",
              "    </tr>\n",
              "    <tr>\n",
              "      <th>3</th>\n",
              "      <td>Error Free</td>\n",
              "      <td>Error Free</td>\n",
              "      <td>Error Free</td>\n",
              "      <td>Error Free</td>\n",
              "    </tr>\n",
              "    <tr>\n",
              "      <th>4</th>\n",
              "      <td>Error Free</td>\n",
              "      <td>Error Free</td>\n",
              "      <td>Defective</td>\n",
              "      <td>Error Free</td>\n",
              "    </tr>\n",
              "    <tr>\n",
              "      <th>5</th>\n",
              "      <td>Error Free</td>\n",
              "      <td>Error Free</td>\n",
              "      <td>Error Free</td>\n",
              "      <td>Error Free</td>\n",
              "    </tr>\n",
              "    <tr>\n",
              "      <th>6</th>\n",
              "      <td>Error Free</td>\n",
              "      <td>Defective</td>\n",
              "      <td>Error Free</td>\n",
              "      <td>Error Free</td>\n",
              "    </tr>\n",
              "    <tr>\n",
              "      <th>7</th>\n",
              "      <td>Error Free</td>\n",
              "      <td>Error Free</td>\n",
              "      <td>Error Free</td>\n",
              "      <td>Error Free</td>\n",
              "    </tr>\n",
              "    <tr>\n",
              "      <th>8</th>\n",
              "      <td>Error Free</td>\n",
              "      <td>Error Free</td>\n",
              "      <td>Error Free</td>\n",
              "      <td>Error Free</td>\n",
              "    </tr>\n",
              "    <tr>\n",
              "      <th>9</th>\n",
              "      <td>Error Free</td>\n",
              "      <td>Error Free</td>\n",
              "      <td>Error Free</td>\n",
              "      <td>Error Free</td>\n",
              "    </tr>\n",
              "  </tbody>\n",
              "</table>\n",
              "</div>"
            ],
            "text/plain": [
              "  Phillippines   Indonesia       Malta       India\n",
              "0   Error Free  Error Free   Defective  Error Free\n",
              "1   Error Free  Error Free  Error Free   Defective\n",
              "2   Error Free   Defective   Defective  Error Free\n",
              "3   Error Free  Error Free  Error Free  Error Free\n",
              "4   Error Free  Error Free   Defective  Error Free\n",
              "5   Error Free  Error Free  Error Free  Error Free\n",
              "6   Error Free   Defective  Error Free  Error Free\n",
              "7   Error Free  Error Free  Error Free  Error Free\n",
              "8   Error Free  Error Free  Error Free  Error Free\n",
              "9   Error Free  Error Free  Error Free  Error Free"
            ]
          },
          "execution_count": 25,
          "metadata": {},
          "output_type": "execute_result"
        }
      ],
      "source": [
        "centers = pd.read_csv('Costomer+OrderForm.csv')\n",
        "centers.head(10)"
      ]
    },
    {
      "cell_type": "code",
      "execution_count": null,
      "id": "3a45204d",
      "metadata": {
        "id": "3a45204d",
        "outputId": "7ed6255d-6ee6-457f-cee4-831298091d22"
      },
      "outputs": [
        {
          "name": "stdout",
          "output_type": "stream",
          "text": [
            "Error Free    271\n",
            "Defective      29\n",
            "Name: Phillippines, dtype: int64 \n",
            " \n",
            " Error Free    267\n",
            "Defective      33\n",
            "Name: Indonesia, dtype: int64 \n",
            " \n",
            " Error Free    269\n",
            "Defective      31\n",
            "Name: Malta, dtype: int64 \n",
            " \n",
            " Error Free    280\n",
            "Defective      20\n",
            "Name: India, dtype: int64\n"
          ]
        }
      ],
      "source": [
        "#Checking value counts in data\n",
        "print(centers['Phillippines'].value_counts(),'\\n','\\n',centers['Indonesia'].value_counts(),'\\n','\\n',centers['Malta'].value_counts(),'\\n','\\n',centers['India'].value_counts())"
      ]
    },
    {
      "cell_type": "markdown",
      "id": "5d763508",
      "metadata": {
        "id": "5d763508"
      },
      "source": [
        "Creating Contingency table"
      ]
    },
    {
      "cell_type": "code",
      "execution_count": null,
      "id": "67db7787",
      "metadata": {
        "id": "67db7787",
        "outputId": "552b3dc5-71f6-4cf6-b6b6-e0dae5f9a834"
      },
      "outputs": [
        {
          "name": "stdout",
          "output_type": "stream",
          "text": [
            "[[271, 267, 269, 280], [29, 33, 31, 20]]\n"
          ]
        }
      ],
      "source": [
        "contingency_table = [[271,267,269,280],\n",
        "                    [29,33,31,20]]\n",
        "print(contingency_table)"
      ]
    },
    {
      "cell_type": "code",
      "execution_count": null,
      "id": "6b13362b",
      "metadata": {
        "id": "6b13362b",
        "outputId": "53d1f59b-6a16-48c8-99ae-072c4b638037"
      },
      "outputs": [
        {
          "data": {
            "text/plain": [
              "list"
            ]
          },
          "execution_count": 41,
          "metadata": {},
          "output_type": "execute_result"
        }
      ],
      "source": [
        "type(contingency_table)"
      ]
    },
    {
      "cell_type": "markdown",
      "id": "efe7798b",
      "metadata": {
        "id": "efe7798b"
      },
      "source": [
        "Calculating Expected Values for Observed data"
      ]
    },
    {
      "cell_type": "code",
      "execution_count": null,
      "id": "c0774b98",
      "metadata": {
        "id": "c0774b98",
        "outputId": "a45e7111-845d-4071-a595-9dfa4d0c9bd0"
      },
      "outputs": [
        {
          "name": "stdout",
          "output_type": "stream",
          "text": [
            "Statistics =  3.858960685820355 \n",
            " P_Value =  0.2771020991233135 \n",
            " degree of freedom = 3 \n",
            " Expected Values =  [[271.75 271.75 271.75 271.75]\n",
            " [ 28.25  28.25  28.25  28.25]]\n"
          ]
        }
      ],
      "source": [
        "stat, p, df, exp = stats.chi2_contingency(contingency_table)\n",
        "print(\"Statistics = \",stat,\"\\n\",'P_Value = ', p,'\\n', 'degree of freedom =', df,'\\n', 'Expected Values = ', exp)"
      ]
    },
    {
      "cell_type": "markdown",
      "id": "3f9d2789",
      "metadata": {
        "id": "3f9d2789"
      },
      "source": [
        "Defining Expected values and observed values"
      ]
    },
    {
      "cell_type": "code",
      "execution_count": null,
      "id": "b7cb0ae0",
      "metadata": {
        "id": "b7cb0ae0"
      },
      "outputs": [],
      "source": [
        "observed = np.array([271, 267, 269, 280, 29, 33, 31, 20])\n",
        "expected = np.array([271.75, 271.75, 271.75, 271.75, 28.25, 28.25, 28.25, 28.25])"
      ]
    },
    {
      "cell_type": "code",
      "execution_count": null,
      "id": "d397c4a9",
      "metadata": {
        "id": "d397c4a9",
        "outputId": "84af8965-76ca-4a25-eed6-6656c3b69405"
      },
      "outputs": [
        {
          "name": "stdout",
          "output_type": "stream",
          "text": [
            "Test Statistic =  3.858960685820355 \n",
            " p_value = 0.4254298144535761\n"
          ]
        }
      ],
      "source": [
        "test_statistic , p_value = stats.chisquare(observed, expected, ddof = df)\n",
        "print(\"Test Statistic = \",test_statistic,'\\n', 'p_value =',p_value)"
      ]
    },
    {
      "cell_type": "markdown",
      "id": "9338e4e5",
      "metadata": {
        "id": "9338e4e5"
      },
      "source": [
        "# Compare p_value with ' α  '(Significane Level)\n",
        "# If p_value is ≠ 'α ' we failed to reject Null Hypothesis because of lack of evidence\n",
        "# If p_value is = 'α ' we reject Null Hypothesis"
      ]
    },
    {
      "cell_type": "code",
      "execution_count": null,
      "id": "b6fa666d",
      "metadata": {
        "id": "b6fa666d"
      },
      "outputs": [],
      "source": []
    }
  ],
  "metadata": {
    "kernelspec": {
      "display_name": "Python 3 (ipykernel)",
      "language": "python",
      "name": "python3"
    },
    "language_info": {
      "codemirror_mode": {
        "name": "ipython",
        "version": 3
      },
      "file_extension": ".py",
      "mimetype": "text/x-python",
      "name": "python",
      "nbconvert_exporter": "python",
      "pygments_lexer": "ipython3",
      "version": "3.11.3"
    },
    "colab": {
      "provenance": [],
      "include_colab_link": true
    }
  },
  "nbformat": 4,
  "nbformat_minor": 5
}