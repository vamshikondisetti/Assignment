{
  "cells": [
    {
      "cell_type": "markdown",
      "metadata": {
        "id": "view-in-github",
        "colab_type": "text"
      },
      "source": [
        "<a href=\"https://colab.research.google.com/github/vamshikondisetti/Assignment/blob/Excler_Assignments/Assignment_18_Forecasting_CocaCola_Sales_Rawdata.ipynb\" target=\"_parent\"><img src=\"https://colab.research.google.com/assets/colab-badge.svg\" alt=\"Open In Colab\"/></a>"
      ]
    },
    {
      "cell_type": "markdown",
      "id": "Xpa6J49RMjT2",
      "metadata": {
        "id": "Xpa6J49RMjT2"
      },
      "source": [
        "**Load libraries and data**"
      ]
    },
    {
      "cell_type": "code",
      "execution_count": null,
      "id": "c0fa0de6",
      "metadata": {
        "id": "c0fa0de6"
      },
      "outputs": [],
      "source": [
        "import numpy as np\n",
        "import matplotlib.pyplot as plt\n",
        "import statsmodels.api as sms\n",
        "import pandas as pd\n",
        "\n",
        "%matplotlib inline"
      ]
    },
    {
      "cell_type": "code",
      "execution_count": null,
      "id": "d532053e",
      "metadata": {
        "colab": {
          "base_uri": "https://localhost:8080/",
          "height": 206
        },
        "id": "d532053e",
        "outputId": "7f40b754-20a6-4d84-e4ed-567bd33fb56e"
      },
      "outputs": [
        {
          "data": {
            "text/html": [
              "<div>\n",
              "<style scoped>\n",
              "    .dataframe tbody tr th:only-of-type {\n",
              "        vertical-align: middle;\n",
              "    }\n",
              "\n",
              "    .dataframe tbody tr th {\n",
              "        vertical-align: top;\n",
              "    }\n",
              "\n",
              "    .dataframe thead th {\n",
              "        text-align: right;\n",
              "    }\n",
              "</style>\n",
              "<table border=\"1\" class=\"dataframe\">\n",
              "  <thead>\n",
              "    <tr style=\"text-align: right;\">\n",
              "      <th></th>\n",
              "      <th>Quarter</th>\n",
              "      <th>Sales</th>\n",
              "    </tr>\n",
              "  </thead>\n",
              "  <tbody>\n",
              "    <tr>\n",
              "      <th>0</th>\n",
              "      <td>Q1_86</td>\n",
              "      <td>1734.827000</td>\n",
              "    </tr>\n",
              "    <tr>\n",
              "      <th>1</th>\n",
              "      <td>Q2_86</td>\n",
              "      <td>2244.960999</td>\n",
              "    </tr>\n",
              "    <tr>\n",
              "      <th>2</th>\n",
              "      <td>Q3_86</td>\n",
              "      <td>2533.804993</td>\n",
              "    </tr>\n",
              "    <tr>\n",
              "      <th>3</th>\n",
              "      <td>Q4_86</td>\n",
              "      <td>2154.962997</td>\n",
              "    </tr>\n",
              "    <tr>\n",
              "      <th>4</th>\n",
              "      <td>Q1_87</td>\n",
              "      <td>1547.818996</td>\n",
              "    </tr>\n",
              "  </tbody>\n",
              "</table>\n",
              "</div>"
            ],
            "text/plain": [
              "  Quarter        Sales\n",
              "0   Q1_86  1734.827000\n",
              "1   Q2_86  2244.960999\n",
              "2   Q3_86  2533.804993\n",
              "3   Q4_86  2154.962997\n",
              "4   Q1_87  1547.818996"
            ]
          },
          "execution_count": 2,
          "metadata": {},
          "output_type": "execute_result"
        }
      ],
      "source": [
        "df_coca=pd.read_excel('CocaCola_Sales_Rawdata.xlsx')\n",
        "df_coca.head()"
      ]
    },
    {
      "cell_type": "code",
      "execution_count": null,
      "id": "8c0046d6",
      "metadata": {
        "colab": {
          "base_uri": "https://localhost:8080/",
          "height": 206
        },
        "id": "8c0046d6",
        "outputId": "5e17df13-dabb-4813-a20e-0c171c58d5e1"
      },
      "outputs": [
        {
          "data": {
            "text/html": [
              "<div>\n",
              "<style scoped>\n",
              "    .dataframe tbody tr th:only-of-type {\n",
              "        vertical-align: middle;\n",
              "    }\n",
              "\n",
              "    .dataframe tbody tr th {\n",
              "        vertical-align: top;\n",
              "    }\n",
              "\n",
              "    .dataframe thead th {\n",
              "        text-align: right;\n",
              "    }\n",
              "</style>\n",
              "<table border=\"1\" class=\"dataframe\">\n",
              "  <thead>\n",
              "    <tr style=\"text-align: right;\">\n",
              "      <th></th>\n",
              "      <th>Quarter</th>\n",
              "      <th>Sales</th>\n",
              "    </tr>\n",
              "  </thead>\n",
              "  <tbody>\n",
              "    <tr>\n",
              "      <th>37</th>\n",
              "      <td>Q2_95</td>\n",
              "      <td>4936.0</td>\n",
              "    </tr>\n",
              "    <tr>\n",
              "      <th>38</th>\n",
              "      <td>Q3_95</td>\n",
              "      <td>4895.0</td>\n",
              "    </tr>\n",
              "    <tr>\n",
              "      <th>39</th>\n",
              "      <td>Q4_95</td>\n",
              "      <td>4333.0</td>\n",
              "    </tr>\n",
              "    <tr>\n",
              "      <th>40</th>\n",
              "      <td>Q1_96</td>\n",
              "      <td>4194.0</td>\n",
              "    </tr>\n",
              "    <tr>\n",
              "      <th>41</th>\n",
              "      <td>Q2_96</td>\n",
              "      <td>5253.0</td>\n",
              "    </tr>\n",
              "  </tbody>\n",
              "</table>\n",
              "</div>"
            ],
            "text/plain": [
              "   Quarter   Sales\n",
              "37   Q2_95  4936.0\n",
              "38   Q3_95  4895.0\n",
              "39   Q4_95  4333.0\n",
              "40   Q1_96  4194.0\n",
              "41   Q2_96  5253.0"
            ]
          },
          "execution_count": 3,
          "metadata": {},
          "output_type": "execute_result"
        }
      ],
      "source": [
        "df_coca.tail()"
      ]
    },
    {
      "cell_type": "markdown",
      "id": "Be1C3TRtMobK",
      "metadata": {
        "id": "Be1C3TRtMobK"
      },
      "source": [
        "**EDA**"
      ]
    },
    {
      "cell_type": "code",
      "execution_count": null,
      "id": "9298f379",
      "metadata": {
        "colab": {
          "base_uri": "https://localhost:8080/"
        },
        "id": "9298f379",
        "outputId": "16cbf135-db9c-4d73-d674-c02fde7ff96f"
      },
      "outputs": [
        {
          "data": {
            "text/plain": [
              "Quarter    0\n",
              "Sales      0\n",
              "dtype: int64"
            ]
          },
          "execution_count": 4,
          "metadata": {},
          "output_type": "execute_result"
        }
      ],
      "source": [
        "df_coca.isnull().sum()"
      ]
    },
    {
      "cell_type": "code",
      "execution_count": null,
      "id": "45edd7ba",
      "metadata": {
        "colab": {
          "base_uri": "https://localhost:8080/"
        },
        "id": "45edd7ba",
        "outputId": "28926877-6095-457d-b38a-059e3ff45f6a"
      },
      "outputs": [
        {
          "name": "stdout",
          "output_type": "stream",
          "text": [
            "<class 'pandas.core.frame.DataFrame'>\n",
            "RangeIndex: 42 entries, 0 to 41\n",
            "Data columns (total 2 columns):\n",
            " #   Column   Non-Null Count  Dtype  \n",
            "---  ------   --------------  -----  \n",
            " 0   Quarter  42 non-null     object \n",
            " 1   Sales    42 non-null     float64\n",
            "dtypes: float64(1), object(1)\n",
            "memory usage: 804.0+ bytes\n"
          ]
        }
      ],
      "source": [
        "df_coca.info()"
      ]
    },
    {
      "cell_type": "code",
      "execution_count": null,
      "id": "PfRWFGXYyGij",
      "metadata": {
        "colab": {
          "base_uri": "https://localhost:8080/",
          "height": 49
        },
        "id": "PfRWFGXYyGij",
        "outputId": "8c886405-be93-4e43-a3ed-589debddda61"
      },
      "outputs": [
        {
          "data": {
            "text/html": [
              "<div>\n",
              "<style scoped>\n",
              "    .dataframe tbody tr th:only-of-type {\n",
              "        vertical-align: middle;\n",
              "    }\n",
              "\n",
              "    .dataframe tbody tr th {\n",
              "        vertical-align: top;\n",
              "    }\n",
              "\n",
              "    .dataframe thead th {\n",
              "        text-align: right;\n",
              "    }\n",
              "</style>\n",
              "<table border=\"1\" class=\"dataframe\">\n",
              "  <thead>\n",
              "    <tr style=\"text-align: right;\">\n",
              "      <th></th>\n",
              "      <th>Quarter</th>\n",
              "      <th>Sales</th>\n",
              "    </tr>\n",
              "  </thead>\n",
              "  <tbody>\n",
              "  </tbody>\n",
              "</table>\n",
              "</div>"
            ],
            "text/plain": [
              "Empty DataFrame\n",
              "Columns: [Quarter, Sales]\n",
              "Index: []"
            ]
          },
          "execution_count": 6,
          "metadata": {},
          "output_type": "execute_result"
        }
      ],
      "source": [
        "df_coca[df_coca.duplicated()]"
      ]
    },
    {
      "cell_type": "code",
      "execution_count": null,
      "id": "HYBWPZCMyNg7",
      "metadata": {
        "colab": {
          "base_uri": "https://localhost:8080/"
        },
        "id": "HYBWPZCMyNg7",
        "outputId": "1a896382-95c6-439f-8bb9-4694f7e26bd3"
      },
      "outputs": [
        {
          "data": {
            "text/plain": [
              "Quarter    42\n",
              "Sales      42\n",
              "dtype: int64"
            ]
          },
          "execution_count": 7,
          "metadata": {},
          "output_type": "execute_result"
        }
      ],
      "source": [
        "df_coca.nunique()"
      ]
    },
    {
      "cell_type": "code",
      "execution_count": null,
      "id": "k8SmsZsayY5y",
      "metadata": {
        "colab": {
          "base_uri": "https://localhost:8080/"
        },
        "id": "k8SmsZsayY5y",
        "outputId": "7b25e043-7e50-44a9-e1b7-edc975003f56"
      },
      "outputs": [
        {
          "data": {
            "text/plain": [
              "(42, 2)"
            ]
          },
          "execution_count": 8,
          "metadata": {},
          "output_type": "execute_result"
        }
      ],
      "source": [
        "df_coca.shape"
      ]
    },
    {
      "cell_type": "code",
      "execution_count": null,
      "id": "DcJlqSrpyiqz",
      "metadata": {
        "colab": {
          "base_uri": "https://localhost:8080/",
          "height": 300
        },
        "id": "DcJlqSrpyiqz",
        "outputId": "af47f43c-9cf2-41cc-8ade-fa0e7b7652fb"
      },
      "outputs": [
        {
          "data": {
            "text/html": [
              "<div>\n",
              "<style scoped>\n",
              "    .dataframe tbody tr th:only-of-type {\n",
              "        vertical-align: middle;\n",
              "    }\n",
              "\n",
              "    .dataframe tbody tr th {\n",
              "        vertical-align: top;\n",
              "    }\n",
              "\n",
              "    .dataframe thead th {\n",
              "        text-align: right;\n",
              "    }\n",
              "</style>\n",
              "<table border=\"1\" class=\"dataframe\">\n",
              "  <thead>\n",
              "    <tr style=\"text-align: right;\">\n",
              "      <th></th>\n",
              "      <th>Sales</th>\n",
              "    </tr>\n",
              "  </thead>\n",
              "  <tbody>\n",
              "    <tr>\n",
              "      <th>count</th>\n",
              "      <td>42.000000</td>\n",
              "    </tr>\n",
              "    <tr>\n",
              "      <th>mean</th>\n",
              "      <td>2994.353308</td>\n",
              "    </tr>\n",
              "    <tr>\n",
              "      <th>std</th>\n",
              "      <td>977.930896</td>\n",
              "    </tr>\n",
              "    <tr>\n",
              "      <th>min</th>\n",
              "      <td>1547.818996</td>\n",
              "    </tr>\n",
              "    <tr>\n",
              "      <th>25%</th>\n",
              "      <td>2159.714247</td>\n",
              "    </tr>\n",
              "    <tr>\n",
              "      <th>50%</th>\n",
              "      <td>2782.376999</td>\n",
              "    </tr>\n",
              "    <tr>\n",
              "      <th>75%</th>\n",
              "      <td>3609.250000</td>\n",
              "    </tr>\n",
              "    <tr>\n",
              "      <th>max</th>\n",
              "      <td>5253.000000</td>\n",
              "    </tr>\n",
              "  </tbody>\n",
              "</table>\n",
              "</div>"
            ],
            "text/plain": [
              "             Sales\n",
              "count    42.000000\n",
              "mean   2994.353308\n",
              "std     977.930896\n",
              "min    1547.818996\n",
              "25%    2159.714247\n",
              "50%    2782.376999\n",
              "75%    3609.250000\n",
              "max    5253.000000"
            ]
          },
          "execution_count": 9,
          "metadata": {},
          "output_type": "execute_result"
        }
      ],
      "source": [
        "df_coca.describe()"
      ]
    },
    {
      "cell_type": "code",
      "execution_count": null,
      "id": "lGRww1ynwlGe",
      "metadata": {
        "colab": {
          "base_uri": "https://localhost:8080/",
          "height": 206
        },
        "id": "lGRww1ynwlGe",
        "outputId": "b50e784f-20dd-45f4-83db-771661c7a35b"
      },
      "outputs": [
        {
          "data": {
            "text/html": [
              "<div>\n",
              "<style scoped>\n",
              "    .dataframe tbody tr th:only-of-type {\n",
              "        vertical-align: middle;\n",
              "    }\n",
              "\n",
              "    .dataframe tbody tr th {\n",
              "        vertical-align: top;\n",
              "    }\n",
              "\n",
              "    .dataframe thead th {\n",
              "        text-align: right;\n",
              "    }\n",
              "</style>\n",
              "<table border=\"1\" class=\"dataframe\">\n",
              "  <thead>\n",
              "    <tr style=\"text-align: right;\">\n",
              "      <th></th>\n",
              "      <th>Quarter</th>\n",
              "      <th>Sales</th>\n",
              "      <th>Quarter_Year</th>\n",
              "    </tr>\n",
              "  </thead>\n",
              "  <tbody>\n",
              "    <tr>\n",
              "      <th>0</th>\n",
              "      <td>Q1_86</td>\n",
              "      <td>1734.827000</td>\n",
              "      <td>Q1 1986</td>\n",
              "    </tr>\n",
              "    <tr>\n",
              "      <th>1</th>\n",
              "      <td>Q2_86</td>\n",
              "      <td>2244.960999</td>\n",
              "      <td>Q2 1986</td>\n",
              "    </tr>\n",
              "    <tr>\n",
              "      <th>2</th>\n",
              "      <td>Q3_86</td>\n",
              "      <td>2533.804993</td>\n",
              "      <td>Q3 1986</td>\n",
              "    </tr>\n",
              "    <tr>\n",
              "      <th>3</th>\n",
              "      <td>Q4_86</td>\n",
              "      <td>2154.962997</td>\n",
              "      <td>Q4 1986</td>\n",
              "    </tr>\n",
              "    <tr>\n",
              "      <th>4</th>\n",
              "      <td>Q1_87</td>\n",
              "      <td>1547.818996</td>\n",
              "      <td>Q1 1987</td>\n",
              "    </tr>\n",
              "  </tbody>\n",
              "</table>\n",
              "</div>"
            ],
            "text/plain": [
              "  Quarter        Sales Quarter_Year\n",
              "0   Q1_86  1734.827000      Q1 1986\n",
              "1   Q2_86  2244.960999      Q2 1986\n",
              "2   Q3_86  2533.804993      Q3 1986\n",
              "3   Q4_86  2154.962997      Q4 1986\n",
              "4   Q1_87  1547.818996      Q1 1987"
            ]
          },
          "execution_count": 10,
          "metadata": {},
          "output_type": "execute_result"
        }
      ],
      "source": [
        "# converting into datetime format as the index was not in correct format.\n",
        "df_coca['Quarter_Year'] = df_coca['Quarter'].str.split('_').apply(lambda x: ' 19'.join(x[:]))\n",
        "#Clean way to convert quarterly periods to datetime in pandas\n",
        "df_coca.head(5)"
      ]
    },
    {
      "cell_type": "code",
      "execution_count": null,
      "id": "7ZVAbBI2w0Ws",
      "metadata": {
        "colab": {
          "base_uri": "https://localhost:8080/",
          "height": 363
        },
        "id": "7ZVAbBI2w0Ws",
        "outputId": "0388904c-55ca-4803-c1d4-9182197b7975"
      },
      "outputs": [
        {
          "data": {
            "text/html": [
              "<div>\n",
              "<style scoped>\n",
              "    .dataframe tbody tr th:only-of-type {\n",
              "        vertical-align: middle;\n",
              "    }\n",
              "\n",
              "    .dataframe tbody tr th {\n",
              "        vertical-align: top;\n",
              "    }\n",
              "\n",
              "    .dataframe thead th {\n",
              "        text-align: right;\n",
              "    }\n",
              "</style>\n",
              "<table border=\"1\" class=\"dataframe\">\n",
              "  <thead>\n",
              "    <tr style=\"text-align: right;\">\n",
              "      <th></th>\n",
              "      <th>Quarter</th>\n",
              "      <th>Sales</th>\n",
              "      <th>Quarter_Year</th>\n",
              "      <th>Date</th>\n",
              "    </tr>\n",
              "  </thead>\n",
              "  <tbody>\n",
              "    <tr>\n",
              "      <th>0</th>\n",
              "      <td>Q1_86</td>\n",
              "      <td>1734.827000</td>\n",
              "      <td>Q1 1986</td>\n",
              "      <td>1986-01-01</td>\n",
              "    </tr>\n",
              "    <tr>\n",
              "      <th>1</th>\n",
              "      <td>Q2_86</td>\n",
              "      <td>2244.960999</td>\n",
              "      <td>Q2 1986</td>\n",
              "      <td>1986-04-01</td>\n",
              "    </tr>\n",
              "    <tr>\n",
              "      <th>2</th>\n",
              "      <td>Q3_86</td>\n",
              "      <td>2533.804993</td>\n",
              "      <td>Q3 1986</td>\n",
              "      <td>1986-07-01</td>\n",
              "    </tr>\n",
              "    <tr>\n",
              "      <th>3</th>\n",
              "      <td>Q4_86</td>\n",
              "      <td>2154.962997</td>\n",
              "      <td>Q4 1986</td>\n",
              "      <td>1986-10-01</td>\n",
              "    </tr>\n",
              "    <tr>\n",
              "      <th>4</th>\n",
              "      <td>Q1_87</td>\n",
              "      <td>1547.818996</td>\n",
              "      <td>Q1 1987</td>\n",
              "      <td>1987-01-01</td>\n",
              "    </tr>\n",
              "    <tr>\n",
              "      <th>5</th>\n",
              "      <td>Q2_87</td>\n",
              "      <td>2104.411995</td>\n",
              "      <td>Q2 1987</td>\n",
              "      <td>1987-04-01</td>\n",
              "    </tr>\n",
              "    <tr>\n",
              "      <th>6</th>\n",
              "      <td>Q3_87</td>\n",
              "      <td>2014.362999</td>\n",
              "      <td>Q3 1987</td>\n",
              "      <td>1987-07-01</td>\n",
              "    </tr>\n",
              "    <tr>\n",
              "      <th>7</th>\n",
              "      <td>Q4_87</td>\n",
              "      <td>1991.746998</td>\n",
              "      <td>Q4 1987</td>\n",
              "      <td>1987-10-01</td>\n",
              "    </tr>\n",
              "    <tr>\n",
              "      <th>8</th>\n",
              "      <td>Q1_88</td>\n",
              "      <td>1869.049999</td>\n",
              "      <td>Q1 1988</td>\n",
              "      <td>1988-01-01</td>\n",
              "    </tr>\n",
              "    <tr>\n",
              "      <th>9</th>\n",
              "      <td>Q2_88</td>\n",
              "      <td>2313.631996</td>\n",
              "      <td>Q2 1988</td>\n",
              "      <td>1988-04-01</td>\n",
              "    </tr>\n",
              "  </tbody>\n",
              "</table>\n",
              "</div>"
            ],
            "text/plain": [
              "  Quarter        Sales Quarter_Year       Date\n",
              "0   Q1_86  1734.827000      Q1 1986 1986-01-01\n",
              "1   Q2_86  2244.960999      Q2 1986 1986-04-01\n",
              "2   Q3_86  2533.804993      Q3 1986 1986-07-01\n",
              "3   Q4_86  2154.962997      Q4 1986 1986-10-01\n",
              "4   Q1_87  1547.818996      Q1 1987 1987-01-01\n",
              "5   Q2_87  2104.411995      Q2 1987 1987-04-01\n",
              "6   Q3_87  2014.362999      Q3 1987 1987-07-01\n",
              "7   Q4_87  1991.746998      Q4 1987 1987-10-01\n",
              "8   Q1_88  1869.049999      Q1 1988 1988-01-01\n",
              "9   Q2_88  2313.631996      Q2 1988 1988-04-01"
            ]
          },
          "execution_count": 11,
          "metadata": {},
          "output_type": "execute_result"
        }
      ],
      "source": [
        "#Extract date from the quarters\n",
        "df_coca['Date'] = (pd.to_datetime(df_coca['Quarter_Year'].str.split(' ').apply(lambda x: ''.join(x[::-1])),dayfirst=True))\n",
        "df_coca.head(10)"
      ]
    },
    {
      "cell_type": "code",
      "execution_count": null,
      "id": "1nbfqLl4xS83",
      "metadata": {
        "colab": {
          "base_uri": "https://localhost:8080/",
          "height": 380
        },
        "id": "1nbfqLl4xS83",
        "outputId": "285c156d-1013-4284-883f-553439a10e17"
      },
      "outputs": [
        {
          "name": "stderr",
          "output_type": "stream",
          "text": [
            "C:\\Users\\Ayushman\\AppData\\Local\\Temp\\ipykernel_4296\\2720000210.py:6: SettingWithCopyWarning: \n",
            "A value is trying to be set on a copy of a slice from a DataFrame\n",
            "\n",
            "See the caveats in the documentation: https://pandas.pydata.org/pandas-docs/stable/user_guide/indexing.html#returning-a-view-versus-a-copy\n",
            "  df_coca['Quarters'][i] = n[0:2]\n"
          ]
        },
        {
          "data": {
            "text/html": [
              "<div>\n",
              "<style scoped>\n",
              "    .dataframe tbody tr th:only-of-type {\n",
              "        vertical-align: middle;\n",
              "    }\n",
              "\n",
              "    .dataframe tbody tr th {\n",
              "        vertical-align: top;\n",
              "    }\n",
              "\n",
              "    .dataframe thead th {\n",
              "        text-align: right;\n",
              "    }\n",
              "</style>\n",
              "<table border=\"1\" class=\"dataframe\">\n",
              "  <thead>\n",
              "    <tr style=\"text-align: right;\">\n",
              "      <th></th>\n",
              "      <th>Quarter</th>\n",
              "      <th>Sales</th>\n",
              "      <th>Quarter_Year</th>\n",
              "      <th>Date</th>\n",
              "      <th>Quarters</th>\n",
              "    </tr>\n",
              "  </thead>\n",
              "  <tbody>\n",
              "    <tr>\n",
              "      <th>0</th>\n",
              "      <td>Q1_86</td>\n",
              "      <td>1734.827000</td>\n",
              "      <td>Q1 1986</td>\n",
              "      <td>1986-01-01</td>\n",
              "      <td>Q1</td>\n",
              "    </tr>\n",
              "    <tr>\n",
              "      <th>1</th>\n",
              "      <td>Q2_86</td>\n",
              "      <td>2244.960999</td>\n",
              "      <td>Q2 1986</td>\n",
              "      <td>1986-04-01</td>\n",
              "      <td>Q2</td>\n",
              "    </tr>\n",
              "    <tr>\n",
              "      <th>2</th>\n",
              "      <td>Q3_86</td>\n",
              "      <td>2533.804993</td>\n",
              "      <td>Q3 1986</td>\n",
              "      <td>1986-07-01</td>\n",
              "      <td>Q3</td>\n",
              "    </tr>\n",
              "    <tr>\n",
              "      <th>3</th>\n",
              "      <td>Q4_86</td>\n",
              "      <td>2154.962997</td>\n",
              "      <td>Q4 1986</td>\n",
              "      <td>1986-10-01</td>\n",
              "      <td>Q4</td>\n",
              "    </tr>\n",
              "    <tr>\n",
              "      <th>4</th>\n",
              "      <td>Q1_87</td>\n",
              "      <td>1547.818996</td>\n",
              "      <td>Q1 1987</td>\n",
              "      <td>1987-01-01</td>\n",
              "      <td>Q1</td>\n",
              "    </tr>\n",
              "  </tbody>\n",
              "</table>\n",
              "</div>"
            ],
            "text/plain": [
              "  Quarter        Sales Quarter_Year       Date Quarters\n",
              "0   Q1_86  1734.827000      Q1 1986 1986-01-01       Q1\n",
              "1   Q2_86  2244.960999      Q2 1986 1986-04-01       Q2\n",
              "2   Q3_86  2533.804993      Q3 1986 1986-07-01       Q3\n",
              "3   Q4_86  2154.962997      Q4 1986 1986-10-01       Q4\n",
              "4   Q1_87  1547.818996      Q1 1987 1987-01-01       Q1"
            ]
          },
          "execution_count": 12,
          "metadata": {},
          "output_type": "execute_result"
        }
      ],
      "source": [
        "#Extracting quarters from and creatin seperate column\n",
        "df_coca['Quarters'] = 0\n",
        "\n",
        "for i in range(42):\n",
        "    n = df_coca['Quarter'][i]\n",
        "    df_coca['Quarters'][i] = n[0:2]\n",
        "\n",
        "df_coca.head(5)"
      ]
    },
    {
      "cell_type": "code",
      "execution_count": null,
      "id": "J1CuBP8Fxm2L",
      "metadata": {
        "colab": {
          "base_uri": "https://localhost:8080/",
          "height": 206
        },
        "id": "J1CuBP8Fxm2L",
        "outputId": "6f67a852-2921-40cc-a364-3c494012734a"
      },
      "outputs": [
        {
          "data": {
            "text/html": [
              "<div>\n",
              "<style scoped>\n",
              "    .dataframe tbody tr th:only-of-type {\n",
              "        vertical-align: middle;\n",
              "    }\n",
              "\n",
              "    .dataframe tbody tr th {\n",
              "        vertical-align: top;\n",
              "    }\n",
              "\n",
              "    .dataframe thead th {\n",
              "        text-align: right;\n",
              "    }\n",
              "</style>\n",
              "<table border=\"1\" class=\"dataframe\">\n",
              "  <thead>\n",
              "    <tr style=\"text-align: right;\">\n",
              "      <th></th>\n",
              "      <th>Quarter</th>\n",
              "      <th>Sales</th>\n",
              "      <th>Quarter_Year</th>\n",
              "      <th>Date</th>\n",
              "      <th>Quarters</th>\n",
              "      <th>Q1</th>\n",
              "      <th>Q2</th>\n",
              "      <th>Q3</th>\n",
              "      <th>Q4</th>\n",
              "    </tr>\n",
              "  </thead>\n",
              "  <tbody>\n",
              "    <tr>\n",
              "      <th>0</th>\n",
              "      <td>Q1_86</td>\n",
              "      <td>1734.827000</td>\n",
              "      <td>Q1 1986</td>\n",
              "      <td>1986-01-01</td>\n",
              "      <td>Q1</td>\n",
              "      <td>1</td>\n",
              "      <td>0</td>\n",
              "      <td>0</td>\n",
              "      <td>0</td>\n",
              "    </tr>\n",
              "    <tr>\n",
              "      <th>1</th>\n",
              "      <td>Q2_86</td>\n",
              "      <td>2244.960999</td>\n",
              "      <td>Q2 1986</td>\n",
              "      <td>1986-04-01</td>\n",
              "      <td>Q2</td>\n",
              "      <td>0</td>\n",
              "      <td>1</td>\n",
              "      <td>0</td>\n",
              "      <td>0</td>\n",
              "    </tr>\n",
              "    <tr>\n",
              "      <th>2</th>\n",
              "      <td>Q3_86</td>\n",
              "      <td>2533.804993</td>\n",
              "      <td>Q3 1986</td>\n",
              "      <td>1986-07-01</td>\n",
              "      <td>Q3</td>\n",
              "      <td>0</td>\n",
              "      <td>0</td>\n",
              "      <td>1</td>\n",
              "      <td>0</td>\n",
              "    </tr>\n",
              "    <tr>\n",
              "      <th>3</th>\n",
              "      <td>Q4_86</td>\n",
              "      <td>2154.962997</td>\n",
              "      <td>Q4 1986</td>\n",
              "      <td>1986-10-01</td>\n",
              "      <td>Q4</td>\n",
              "      <td>0</td>\n",
              "      <td>0</td>\n",
              "      <td>0</td>\n",
              "      <td>1</td>\n",
              "    </tr>\n",
              "    <tr>\n",
              "      <th>4</th>\n",
              "      <td>Q1_87</td>\n",
              "      <td>1547.818996</td>\n",
              "      <td>Q1 1987</td>\n",
              "      <td>1987-01-01</td>\n",
              "      <td>Q1</td>\n",
              "      <td>1</td>\n",
              "      <td>0</td>\n",
              "      <td>0</td>\n",
              "      <td>0</td>\n",
              "    </tr>\n",
              "  </tbody>\n",
              "</table>\n",
              "</div>"
            ],
            "text/plain": [
              "  Quarter        Sales Quarter_Year       Date Quarters  Q1  Q2  Q3  Q4\n",
              "0   Q1_86  1734.827000      Q1 1986 1986-01-01       Q1   1   0   0   0\n",
              "1   Q2_86  2244.960999      Q2 1986 1986-04-01       Q2   0   1   0   0\n",
              "2   Q3_86  2533.804993      Q3 1986 1986-07-01       Q3   0   0   1   0\n",
              "3   Q4_86  2154.962997      Q4 1986 1986-10-01       Q4   0   0   0   1\n",
              "4   Q1_87  1547.818996      Q1 1987 1987-01-01       Q1   1   0   0   0"
            ]
          },
          "execution_count": 13,
          "metadata": {},
          "output_type": "execute_result"
        }
      ],
      "source": [
        "#Create dummy variable for quarters\n",
        "dummy = pd.DataFrame(pd.get_dummies(df_coca['Quarters']))\n",
        "df1 = pd.concat((df_coca, dummy), axis=1)\n",
        "\n",
        "df1.head()"
      ]
    },
    {
      "cell_type": "code",
      "execution_count": null,
      "id": "TKruy8spxwXE",
      "metadata": {
        "colab": {
          "base_uri": "https://localhost:8080/",
          "height": 206
        },
        "id": "TKruy8spxwXE",
        "outputId": "9c1fbbfd-ef66-44e5-f0e7-8ab11c3d04c7"
      },
      "outputs": [
        {
          "data": {
            "text/html": [
              "<div>\n",
              "<style scoped>\n",
              "    .dataframe tbody tr th:only-of-type {\n",
              "        vertical-align: middle;\n",
              "    }\n",
              "\n",
              "    .dataframe tbody tr th {\n",
              "        vertical-align: top;\n",
              "    }\n",
              "\n",
              "    .dataframe thead th {\n",
              "        text-align: right;\n",
              "    }\n",
              "</style>\n",
              "<table border=\"1\" class=\"dataframe\">\n",
              "  <thead>\n",
              "    <tr style=\"text-align: right;\">\n",
              "      <th></th>\n",
              "      <th>Sales</th>\n",
              "      <th>Date</th>\n",
              "      <th>Quarters</th>\n",
              "      <th>Q1</th>\n",
              "      <th>Q2</th>\n",
              "      <th>Q3</th>\n",
              "      <th>Q4</th>\n",
              "    </tr>\n",
              "  </thead>\n",
              "  <tbody>\n",
              "    <tr>\n",
              "      <th>0</th>\n",
              "      <td>1734.827000</td>\n",
              "      <td>1986-01-01</td>\n",
              "      <td>Q1</td>\n",
              "      <td>1</td>\n",
              "      <td>0</td>\n",
              "      <td>0</td>\n",
              "      <td>0</td>\n",
              "    </tr>\n",
              "    <tr>\n",
              "      <th>1</th>\n",
              "      <td>2244.960999</td>\n",
              "      <td>1986-04-01</td>\n",
              "      <td>Q2</td>\n",
              "      <td>0</td>\n",
              "      <td>1</td>\n",
              "      <td>0</td>\n",
              "      <td>0</td>\n",
              "    </tr>\n",
              "    <tr>\n",
              "      <th>2</th>\n",
              "      <td>2533.804993</td>\n",
              "      <td>1986-07-01</td>\n",
              "      <td>Q3</td>\n",
              "      <td>0</td>\n",
              "      <td>0</td>\n",
              "      <td>1</td>\n",
              "      <td>0</td>\n",
              "    </tr>\n",
              "    <tr>\n",
              "      <th>3</th>\n",
              "      <td>2154.962997</td>\n",
              "      <td>1986-10-01</td>\n",
              "      <td>Q4</td>\n",
              "      <td>0</td>\n",
              "      <td>0</td>\n",
              "      <td>0</td>\n",
              "      <td>1</td>\n",
              "    </tr>\n",
              "    <tr>\n",
              "      <th>4</th>\n",
              "      <td>1547.818996</td>\n",
              "      <td>1987-01-01</td>\n",
              "      <td>Q1</td>\n",
              "      <td>1</td>\n",
              "      <td>0</td>\n",
              "      <td>0</td>\n",
              "      <td>0</td>\n",
              "    </tr>\n",
              "  </tbody>\n",
              "</table>\n",
              "</div>"
            ],
            "text/plain": [
              "         Sales       Date Quarters  Q1  Q2  Q3  Q4\n",
              "0  1734.827000 1986-01-01       Q1   1   0   0   0\n",
              "1  2244.960999 1986-04-01       Q2   0   1   0   0\n",
              "2  2533.804993 1986-07-01       Q3   0   0   1   0\n",
              "3  2154.962997 1986-10-01       Q4   0   0   0   1\n",
              "4  1547.818996 1987-01-01       Q1   1   0   0   0"
            ]
          },
          "execution_count": 14,
          "metadata": {},
          "output_type": "execute_result"
        }
      ],
      "source": [
        "#drop the unnecessary columns\n",
        "df1.drop(['Quarter','Quarter_Year'] , axis =1, inplace = True)\n",
        "df1.head()"
      ]
    },
    {
      "cell_type": "code",
      "execution_count": null,
      "id": "1b5d6bb1",
      "metadata": {
        "id": "1b5d6bb1"
      },
      "outputs": [],
      "source": [
        "#Get Month column as index of data\n",
        "df_raw = df1.copy()\n",
        "df1.set_index('Date',inplace=True)"
      ]
    },
    {
      "cell_type": "code",
      "execution_count": null,
      "id": "56f64765",
      "metadata": {
        "colab": {
          "base_uri": "https://localhost:8080/",
          "height": 238
        },
        "id": "56f64765",
        "outputId": "6b21df38-6a04-4a8e-bd69-5366afced01b"
      },
      "outputs": [
        {
          "data": {
            "text/html": [
              "<div>\n",
              "<style scoped>\n",
              "    .dataframe tbody tr th:only-of-type {\n",
              "        vertical-align: middle;\n",
              "    }\n",
              "\n",
              "    .dataframe tbody tr th {\n",
              "        vertical-align: top;\n",
              "    }\n",
              "\n",
              "    .dataframe thead th {\n",
              "        text-align: right;\n",
              "    }\n",
              "</style>\n",
              "<table border=\"1\" class=\"dataframe\">\n",
              "  <thead>\n",
              "    <tr style=\"text-align: right;\">\n",
              "      <th></th>\n",
              "      <th>Sales</th>\n",
              "      <th>Quarters</th>\n",
              "      <th>Q1</th>\n",
              "      <th>Q2</th>\n",
              "      <th>Q3</th>\n",
              "      <th>Q4</th>\n",
              "    </tr>\n",
              "    <tr>\n",
              "      <th>Date</th>\n",
              "      <th></th>\n",
              "      <th></th>\n",
              "      <th></th>\n",
              "      <th></th>\n",
              "      <th></th>\n",
              "      <th></th>\n",
              "    </tr>\n",
              "  </thead>\n",
              "  <tbody>\n",
              "    <tr>\n",
              "      <th>1986-01-01</th>\n",
              "      <td>1734.827000</td>\n",
              "      <td>Q1</td>\n",
              "      <td>1</td>\n",
              "      <td>0</td>\n",
              "      <td>0</td>\n",
              "      <td>0</td>\n",
              "    </tr>\n",
              "    <tr>\n",
              "      <th>1986-04-01</th>\n",
              "      <td>2244.960999</td>\n",
              "      <td>Q2</td>\n",
              "      <td>0</td>\n",
              "      <td>1</td>\n",
              "      <td>0</td>\n",
              "      <td>0</td>\n",
              "    </tr>\n",
              "    <tr>\n",
              "      <th>1986-07-01</th>\n",
              "      <td>2533.804993</td>\n",
              "      <td>Q3</td>\n",
              "      <td>0</td>\n",
              "      <td>0</td>\n",
              "      <td>1</td>\n",
              "      <td>0</td>\n",
              "    </tr>\n",
              "    <tr>\n",
              "      <th>1986-10-01</th>\n",
              "      <td>2154.962997</td>\n",
              "      <td>Q4</td>\n",
              "      <td>0</td>\n",
              "      <td>0</td>\n",
              "      <td>0</td>\n",
              "      <td>1</td>\n",
              "    </tr>\n",
              "    <tr>\n",
              "      <th>1987-01-01</th>\n",
              "      <td>1547.818996</td>\n",
              "      <td>Q1</td>\n",
              "      <td>1</td>\n",
              "      <td>0</td>\n",
              "      <td>0</td>\n",
              "      <td>0</td>\n",
              "    </tr>\n",
              "  </tbody>\n",
              "</table>\n",
              "</div>"
            ],
            "text/plain": [
              "                  Sales Quarters  Q1  Q2  Q3  Q4\n",
              "Date                                            \n",
              "1986-01-01  1734.827000       Q1   1   0   0   0\n",
              "1986-04-01  2244.960999       Q2   0   1   0   0\n",
              "1986-07-01  2533.804993       Q3   0   0   1   0\n",
              "1986-10-01  2154.962997       Q4   0   0   0   1\n",
              "1987-01-01  1547.818996       Q1   1   0   0   0"
            ]
          },
          "execution_count": 16,
          "metadata": {},
          "output_type": "execute_result"
        }
      ],
      "source": [
        "df1.head()"
      ]
    },
    {
      "cell_type": "markdown",
      "id": "gNwhpsYhMfwd",
      "metadata": {
        "id": "gNwhpsYhMfwd"
      },
      "source": [
        "**Visualisations**"
      ]
    },
    {
      "cell_type": "code",
      "execution_count": null,
      "id": "fd83f7a1",
      "metadata": {
        "colab": {
          "base_uri": "https://localhost:8080/",
          "height": 296
        },
        "id": "fd83f7a1",
        "outputId": "c3670c43-0eed-421a-84e7-5559231ba5a7"
      },
      "outputs": [
        {
          "data": {
            "text/plain": [
              "<Axes: xlabel='Date'>"
            ]
          },
          "execution_count": 17,
          "metadata": {},
          "output_type": "execute_result"
        },
        {
          "data": {
            "image/png": "[encoded data removed]",
            "text/plain": [
              "<Figure size 640x480 with 1 Axes>"
            ]
          },
          "metadata": {},
          "output_type": "display_data"
        }
      ],
      "source": [
        "df1.Sales.plot()"
      ]
    },
    {
      "cell_type": "markdown",
      "id": "mwt-I0mHO6rK",
      "metadata": {
        "id": "mwt-I0mHO6rK"
      },
      "source": [
        "- There is an upward trending data and there is a little bit seasonality in our data."
      ]
    },
    {
      "cell_type": "markdown",
      "id": "oBGE9F_ANGEM",
      "metadata": {
        "id": "oBGE9F_ANGEM"
      },
      "source": [
        "Histogram"
      ]
    },
    {
      "cell_type": "code",
      "execution_count": null,
      "id": "a39H51gQMrIa",
      "metadata": {
        "colab": {
          "base_uri": "https://localhost:8080/",
          "height": 265
        },
        "id": "a39H51gQMrIa",
        "outputId": "9dcc5198-a780-483f-c520-cc1677c3ca62"
      },
      "outputs": [
        {
          "data": {
            "image/png": "[encoded data removed]",
            "text/plain": [
              "<Figure size 640x480 with 1 Axes>"
            ]
          },
          "metadata": {},
          "output_type": "display_data"
        }
      ],
      "source": [
        "df1.Sales.hist()\n",
        "plt.show()"
      ]
    },
    {
      "cell_type": "markdown",
      "id": "NHJ8265oNC6p",
      "metadata": {
        "id": "NHJ8265oNC6p"
      },
      "source": [
        "Distplot"
      ]
    },
    {
      "cell_type": "code",
      "execution_count": null,
      "id": "nwp9kJ5SM7nn",
      "metadata": {
        "colab": {
          "base_uri": "https://localhost:8080/",
          "height": 265
        },
        "id": "nwp9kJ5SM7nn",
        "outputId": "1612c5fb-6d21-449a-e86d-0c0877ce7b69"
      },
      "outputs": [
        {
          "data": {
            "image/png": "[encoded data removed]",
            "text/plain": [
              "<Figure size 640x480 with 1 Axes>"
            ]
          },
          "metadata": {},
          "output_type": "display_data"
        }
      ],
      "source": [
        "df1.Sales.plot(kind='kde')\n",
        "plt.show()"
      ]
    },
    {
      "cell_type": "markdown",
      "id": "5VdJM1S8OxsR",
      "metadata": {
        "id": "5VdJM1S8OxsR"
      },
      "source": [
        "- We can observe this a normally distributed data."
      ]
    },
    {
      "cell_type": "markdown",
      "id": "Wza_dGVKNbEz",
      "metadata": {
        "id": "Wza_dGVKNbEz"
      },
      "source": [
        "Lagplot"
      ]
    },
    {
      "cell_type": "code",
      "execution_count": null,
      "id": "WJFE4YFhNRY3",
      "metadata": {
        "colab": {
          "base_uri": "https://localhost:8080/",
          "height": 296
        },
        "id": "WJFE4YFhNRY3",
        "outputId": "7a249e8c-2ede-4ce7-8685-0742b28a285c"
      },
      "outputs": [
        {
          "data": {
            "text/plain": [
              "<Axes: xlabel='y(t)', ylabel='y(t + 1)'>"
            ]
          },
          "execution_count": 20,
          "metadata": {},
          "output_type": "execute_result"
        },
        {
          "data": {
            "image/png": "[encoded data removed]",
            "text/plain": [
              "<Figure size 640x480 with 1 Axes>"
            ]
          },
          "metadata": {},
          "output_type": "display_data"
        }
      ],
      "source": [
        "from pandas.plotting import lag_plot\n",
        "lag_plot(df1.Sales)"
      ]
    },
    {
      "cell_type": "code",
      "execution_count": null,
      "id": "0vymI8PGNraA",
      "metadata": {
        "colab": {
          "base_uri": "https://localhost:8080/",
          "height": 206
        },
        "id": "0vymI8PGNraA",
        "outputId": "1f4b58e7-1cdb-4b69-bd63-0d809cfb1b08"
      },
      "outputs": [
        {
          "data": {
            "text/html": [
              "<div>\n",
              "<style scoped>\n",
              "    .dataframe tbody tr th:only-of-type {\n",
              "        vertical-align: middle;\n",
              "    }\n",
              "\n",
              "    .dataframe tbody tr th {\n",
              "        vertical-align: top;\n",
              "    }\n",
              "\n",
              "    .dataframe thead th {\n",
              "        text-align: right;\n",
              "    }\n",
              "</style>\n",
              "<table border=\"1\" class=\"dataframe\">\n",
              "  <thead>\n",
              "    <tr style=\"text-align: right;\">\n",
              "      <th></th>\n",
              "      <th>Sales</th>\n",
              "      <th>Date</th>\n",
              "      <th>Quarters</th>\n",
              "      <th>Q1</th>\n",
              "      <th>Q2</th>\n",
              "      <th>Q3</th>\n",
              "      <th>Q4</th>\n",
              "      <th>month</th>\n",
              "      <th>year</th>\n",
              "    </tr>\n",
              "  </thead>\n",
              "  <tbody>\n",
              "    <tr>\n",
              "      <th>0</th>\n",
              "      <td>1734.827000</td>\n",
              "      <td>1986-01-01</td>\n",
              "      <td>Q1</td>\n",
              "      <td>1</td>\n",
              "      <td>0</td>\n",
              "      <td>0</td>\n",
              "      <td>0</td>\n",
              "      <td>Jan</td>\n",
              "      <td>1986</td>\n",
              "    </tr>\n",
              "    <tr>\n",
              "      <th>1</th>\n",
              "      <td>2244.960999</td>\n",
              "      <td>1986-04-01</td>\n",
              "      <td>Q2</td>\n",
              "      <td>0</td>\n",
              "      <td>1</td>\n",
              "      <td>0</td>\n",
              "      <td>0</td>\n",
              "      <td>Apr</td>\n",
              "      <td>1986</td>\n",
              "    </tr>\n",
              "    <tr>\n",
              "      <th>2</th>\n",
              "      <td>2533.804993</td>\n",
              "      <td>1986-07-01</td>\n",
              "      <td>Q3</td>\n",
              "      <td>0</td>\n",
              "      <td>0</td>\n",
              "      <td>1</td>\n",
              "      <td>0</td>\n",
              "      <td>Jul</td>\n",
              "      <td>1986</td>\n",
              "    </tr>\n",
              "    <tr>\n",
              "      <th>3</th>\n",
              "      <td>2154.962997</td>\n",
              "      <td>1986-10-01</td>\n",
              "      <td>Q4</td>\n",
              "      <td>0</td>\n",
              "      <td>0</td>\n",
              "      <td>0</td>\n",
              "      <td>1</td>\n",
              "      <td>Oct</td>\n",
              "      <td>1986</td>\n",
              "    </tr>\n",
              "    <tr>\n",
              "      <th>4</th>\n",
              "      <td>1547.818996</td>\n",
              "      <td>1987-01-01</td>\n",
              "      <td>Q1</td>\n",
              "      <td>1</td>\n",
              "      <td>0</td>\n",
              "      <td>0</td>\n",
              "      <td>0</td>\n",
              "      <td>Jan</td>\n",
              "      <td>1987</td>\n",
              "    </tr>\n",
              "  </tbody>\n",
              "</table>\n",
              "</div>"
            ],
            "text/plain": [
              "         Sales       Date Quarters  Q1  Q2  Q3  Q4 month  year\n",
              "0  1734.827000 1986-01-01       Q1   1   0   0   0   Jan  1986\n",
              "1  2244.960999 1986-04-01       Q2   0   1   0   0   Apr  1986\n",
              "2  2533.804993 1986-07-01       Q3   0   0   1   0   Jul  1986\n",
              "3  2154.962997 1986-10-01       Q4   0   0   0   1   Oct  1986\n",
              "4  1547.818996 1987-01-01       Q1   1   0   0   0   Jan  1987"
            ]
          },
          "execution_count": 21,
          "metadata": {},
          "output_type": "execute_result"
        }
      ],
      "source": [
        "#Get month and year columns in our data\n",
        "df_raw[\"Date\"] = pd.to_datetime(df_raw.Date,format=\"%b-%y\")\n",
        "df_raw[\"month\"] = df_raw.Date.dt.strftime(\"%b\") # month extraction\n",
        "df_raw[\"year\"] = df_raw.Date.dt.strftime(\"%Y\") # year extraction\n",
        "df_raw.head()"
      ]
    },
    {
      "cell_type": "markdown",
      "id": "zQreGDOGOr44",
      "metadata": {
        "id": "zQreGDOGOr44"
      },
      "source": [
        "Heatmap"
      ]
    },
    {
      "cell_type": "code",
      "execution_count": null,
      "id": "3wzlBZbSOIeF",
      "metadata": {
        "colab": {
          "base_uri": "https://localhost:8080/",
          "height": 514
        },
        "id": "3wzlBZbSOIeF",
        "outputId": "70483f8c-d669-4f7b-d6a7-1a800027575b"
      },
      "outputs": [
        {
          "data": {
            "text/plain": [
              "<Axes: xlabel='Quarters', ylabel='year'>"
            ]
          },
          "execution_count": 22,
          "metadata": {},
          "output_type": "execute_result"
        },
        {
          "data": {
            "image/png": "[encoded data removed]",
            "text/plain": [
              "<Figure size 1200x800 with 2 Axes>"
            ]
          },
          "metadata": {},
          "output_type": "display_data"
        }
      ],
      "source": [
        "import seaborn as sns\n",
        "plt.figure(figsize=(12,8))\n",
        "heatmap_y_month = pd.pivot_table(data=df_raw,values=\"Sales\",index=\"year\",columns=\"Quarters\",aggfunc=\"mean\",fill_value=0)\n",
        "sns.heatmap(heatmap_y_month,annot=True,fmt=\"g\") #fmt is format of the grid values"
      ]
    },
    {
      "cell_type": "markdown",
      "id": "110Lg2ALPTaU",
      "metadata": {
        "id": "110Lg2ALPTaU"
      },
      "source": [
        "- Quarter Q2 have higher sales in the years.\n",
        "- Sales have decresed every year."
      ]
    },
    {
      "cell_type": "markdown",
      "id": "dOESubIIOqC3",
      "metadata": {
        "id": "dOESubIIOqC3"
      },
      "source": [
        "Boxplot"
      ]
    },
    {
      "cell_type": "code",
      "execution_count": null,
      "id": "bVGygaAYOfx9",
      "metadata": {
        "colab": {
          "base_uri": "https://localhost:8080/",
          "height": 405
        },
        "id": "bVGygaAYOfx9",
        "outputId": "477af7ee-7f8b-4196-b83e-c6eb44701bb5"
      },
      "outputs": [
        {
          "data": {
            "text/plain": [
              "<Axes: xlabel='year', ylabel='Sales'>"
            ]
          },
          "execution_count": 23,
          "metadata": {},
          "output_type": "execute_result"
        },
        {
          "data": {
            "image/png": "[encoded data removed]",
            "text/plain": [
              "<Figure size 800x600 with 2 Axes>"
            ]
          },
          "metadata": {},
          "output_type": "display_data"
        }
      ],
      "source": [
        "plt.figure(figsize=(8,6))\n",
        "plt.subplot(211)\n",
        "sns.boxplot(x=\"Quarters\",y=\"Sales\",data=df_raw)\n",
        "plt.subplot(212)\n",
        "sns.boxplot(x=\"year\",y=\"Sales\",data=df_raw)"
      ]
    },
    {
      "cell_type": "markdown",
      "id": "0ynwgCGaPy5C",
      "metadata": {
        "id": "0ynwgCGaPy5C"
      },
      "source": [
        "- Similar observations can be concluded from boxplot as well."
      ]
    },
    {
      "cell_type": "code",
      "execution_count": null,
      "id": "A2_FieYEQBVV",
      "metadata": {
        "colab": {
          "base_uri": "https://localhost:8080/",
          "height": 242
        },
        "id": "A2_FieYEQBVV",
        "outputId": "30b07b3c-58d5-47f9-ac81-2a0ac630fd1b"
      },
      "outputs": [
        {
          "data": {
            "text/plain": [
              "<Axes: xlabel='year', ylabel='Sales'>"
            ]
          },
          "execution_count": 24,
          "metadata": {},
          "output_type": "execute_result"
        },
        {
          "data": {
            "image/png": "[encoded data removed]",
            "text/plain": [
              "<Figure size 1200x300 with 1 Axes>"
            ]
          },
          "metadata": {},
          "output_type": "display_data"
        }
      ],
      "source": [
        "plt.figure(figsize=(12,3))\n",
        "sns.lineplot(x=\"year\",y=\"Sales\",data=df_raw)"
      ]
    },
    {
      "cell_type": "markdown",
      "id": "0g7-KwhJi9Cm",
      "metadata": {
        "id": "0g7-KwhJi9Cm"
      },
      "source": [
        "Moving Average"
      ]
    },
    {
      "cell_type": "code",
      "execution_count": null,
      "id": "ZJCNPvDMi-J-",
      "metadata": {
        "colab": {
          "base_uri": "https://localhost:8080/",
          "height": 282
        },
        "id": "ZJCNPvDMi-J-",
        "outputId": "31e9a3fd-1a26-4ef2-fd5b-214a441df3c1"
      },
      "outputs": [
        {
          "data": {
            "text/plain": [
              "<matplotlib.legend.Legend at 0x294725b26d0>"
            ]
          },
          "execution_count": 25,
          "metadata": {},
          "output_type": "execute_result"
        },
        {
          "data": {
            "image/png": "[encoded data removed]",
            "text/plain": [
              "<Figure size 1200x400 with 1 Axes>"
            ]
          },
          "metadata": {},
          "output_type": "display_data"
        }
      ],
      "source": [
        "#Smoothning of the graph\n",
        "plt.figure(figsize=(12,4))\n",
        "df_raw.Sales.plot(label=\"org\")\n",
        "for i in range(3,30,7):\n",
        "    df_raw[\"Sales\"].rolling(i).mean().plot(label=str(i))\n",
        "plt.legend(loc='best')"
      ]
    },
    {
      "cell_type": "markdown",
      "id": "ROW2VaKZjX60",
      "metadata": {
        "id": "ROW2VaKZjX60"
      },
      "source": [
        "Time series decomposition plot"
      ]
    },
    {
      "cell_type": "code",
      "execution_count": null,
      "id": "hiKiw4dTjKwv",
      "metadata": {
        "colab": {
          "base_uri": "https://localhost:8080/",
          "height": 297
        },
        "id": "hiKiw4dTjKwv",
        "outputId": "dfad252b-3909-415f-add2-1790c74ee158"
      },
      "outputs": [
        {
          "data": {
            "image/png": "[encoded data removed]",
            "text/plain": [
              "<Figure size 640x480 with 4 Axes>"
            ]
          },
          "metadata": {},
          "output_type": "display_data"
        }
      ],
      "source": [
        "from statsmodels.tsa.seasonal import seasonal_decompose\n",
        "decompose_ts_add = seasonal_decompose(df_raw.Sales,period=12)\n",
        "decompose_ts_add.plot()\n",
        "plt.show()                                           #1st is the original plot, 2nd in the trend, 3rd is the seaonality component, 4th is the noise component"
      ]
    },
    {
      "cell_type": "markdown",
      "id": "P6B48LXL3lOG",
      "metadata": {
        "id": "P6B48LXL3lOG"
      },
      "source": [
        "- 1st graph is the original plot.\n",
        "- Second grah shows the trend of data.\n",
        "- Third graph shows seasonality in the data.\n",
        "- 4th graph shows the noise in data."
      ]
    },
    {
      "cell_type": "markdown",
      "id": "JCpoLj6mSJG1",
      "metadata": {
        "id": "JCpoLj6mSJG1"
      },
      "source": [
        "ACF Plot"
      ]
    },
    {
      "cell_type": "code",
      "execution_count": null,
      "id": "hBXHyN92RTc-",
      "metadata": {
        "colab": {
          "base_uri": "https://localhost:8080/",
          "height": 281
        },
        "id": "hBXHyN92RTc-",
        "outputId": "6fa165c6-1d85-465b-c74e-160d2ed11379"
      },
      "outputs": [
        {
          "data": {
            "image/png": "[encoded data removed]",
            "text/plain": [
              "<Figure size 640x480 with 1 Axes>"
            ]
          },
          "metadata": {},
          "output_type": "display_data"
        }
      ],
      "source": [
        "from statsmodels.graphics.tsaplots import plot_acf,plot_pacf\n",
        "acf = plot_acf(df_raw[\"Sales\"])                                                   #q=4"
      ]
    },
    {
      "cell_type": "markdown",
      "id": "fm1wfgzESM9e",
      "metadata": {
        "id": "fm1wfgzESM9e"
      },
      "source": [
        "PACF Plot"
      ]
    },
    {
      "cell_type": "code",
      "execution_count": null,
      "id": "qG54DM14Rj-k",
      "metadata": {
        "colab": {
          "base_uri": "https://localhost:8080/",
          "height": 281
        },
        "id": "qG54DM14Rj-k",
        "outputId": "7f812c29-06b3-4d98-893a-27d20121497b"
      },
      "outputs": [
        {
          "name": "stderr",
          "output_type": "stream",
          "text": [
            "D:\\anaconda\\Lib\\site-packages\\statsmodels\\graphics\\tsaplots.py:348: FutureWarning: The default method 'yw' can produce PACF values outside of the [-1,1] interval. After 0.13, the default will change tounadjusted Yule-Walker ('ywm'). You can use this method now by setting method='ywm'.\n",
            "  warnings.warn(\n"
          ]
        },
        {
          "data": {
            "image/png": "[encoded data removed]",
            "text/plain": [
              "<Figure size 640x480 with 1 Axes>"
            ]
          },
          "metadata": {},
          "output_type": "display_data"
        }
      ],
      "source": [
        "pacf = plot_pacf(df_raw[\"Sales\"])                               #p=1"
      ]
    },
    {
      "cell_type": "markdown",
      "id": "Lpyft1uMiXpH",
      "metadata": {
        "id": "Lpyft1uMiXpH"
      },
      "source": [
        "# **Forecasting Model Based Methods**"
      ]
    },
    {
      "cell_type": "markdown",
      "id": "ZtgmpU46V0Or",
      "metadata": {
        "id": "ZtgmpU46V0Or"
      },
      "source": [
        "**Data Preprocessing**"
      ]
    },
    {
      "cell_type": "code",
      "execution_count": null,
      "id": "T5Pp9jPUSsC7",
      "metadata": {
        "colab": {
          "base_uri": "https://localhost:8080/"
        },
        "id": "T5Pp9jPUSsC7",
        "outputId": "2cd64ec4-7824-4c0c-8046-d03206bef8ed"
      },
      "outputs": [
        {
          "data": {
            "text/plain": [
              "(42, 9)"
            ]
          },
          "execution_count": 29,
          "metadata": {},
          "output_type": "execute_result"
        }
      ],
      "source": [
        "df_raw.shape"
      ]
    },
    {
      "cell_type": "code",
      "execution_count": null,
      "id": "xdb31v4QUuzb",
      "metadata": {
        "colab": {
          "base_uri": "https://localhost:8080/"
        },
        "id": "xdb31v4QUuzb",
        "outputId": "ec30e483-8f45-4184-cf9b-a42bdb2ac9ad"
      },
      "outputs": [
        {
          "name": "stdout",
          "output_type": "stream",
          "text": [
            "<class 'pandas.core.frame.DataFrame'>\n",
            "RangeIndex: 42 entries, 0 to 41\n",
            "Data columns (total 9 columns):\n",
            " #   Column    Non-Null Count  Dtype         \n",
            "---  ------    --------------  -----         \n",
            " 0   Sales     42 non-null     float64       \n",
            " 1   Date      42 non-null     datetime64[ns]\n",
            " 2   Quarters  42 non-null     object        \n",
            " 3   Q1        42 non-null     uint8         \n",
            " 4   Q2        42 non-null     uint8         \n",
            " 5   Q3        42 non-null     uint8         \n",
            " 6   Q4        42 non-null     uint8         \n",
            " 7   month     42 non-null     object        \n",
            " 8   year      42 non-null     object        \n",
            "dtypes: datetime64[ns](1), float64(1), object(3), uint8(4)\n",
            "memory usage: 1.9+ KB\n"
          ]
        }
      ],
      "source": [
        "df_raw.info()"
      ]
    },
    {
      "cell_type": "code",
      "execution_count": null,
      "id": "3SyCopHU_KB_",
      "metadata": {
        "id": "3SyCopHU_KB_"
      },
      "outputs": [],
      "source": [
        "x=np.arange(1,43)"
      ]
    },
    {
      "cell_type": "code",
      "execution_count": null,
      "id": "j20mLjQI_b0E",
      "metadata": {
        "colab": {
          "base_uri": "https://localhost:8080/"
        },
        "id": "j20mLjQI_b0E",
        "outputId": "badbd8bf-0121-40d4-b783-ddbff8349561"
      },
      "outputs": [
        {
          "data": {
            "text/plain": [
              "0      1\n",
              "1      2\n",
              "2      3\n",
              "3      4\n",
              "4      5\n",
              "5      6\n",
              "6      7\n",
              "7      8\n",
              "8      9\n",
              "9     10\n",
              "10    11\n",
              "11    12\n",
              "12    13\n",
              "13    14\n",
              "14    15\n",
              "15    16\n",
              "16    17\n",
              "17    18\n",
              "18    19\n",
              "19    20\n",
              "20    21\n",
              "21    22\n",
              "22    23\n",
              "23    24\n",
              "24    25\n",
              "25    26\n",
              "26    27\n",
              "27    28\n",
              "28    29\n",
              "29    30\n",
              "30    31\n",
              "31    32\n",
              "32    33\n",
              "33    34\n",
              "34    35\n",
              "35    36\n",
              "36    37\n",
              "37    38\n",
              "38    39\n",
              "39    40\n",
              "40    41\n",
              "41    42\n",
              "dtype: int32"
            ]
          },
          "execution_count": 32,
          "metadata": {},
          "output_type": "execute_result"
        }
      ],
      "source": [
        "#timesteps\n",
        "t=pd.Series(data=x)\n",
        "t"
      ]
    },
    {
      "cell_type": "code",
      "execution_count": null,
      "id": "vRz6VMYJASK0",
      "metadata": {
        "colab": {
          "base_uri": "https://localhost:8080/"
        },
        "id": "vRz6VMYJASK0",
        "outputId": "ad35d1d8-9fa2-4d6e-da46-b8c53ae1b973"
      },
      "outputs": [
        {
          "data": {
            "text/plain": [
              "0        1\n",
              "1        4\n",
              "2        9\n",
              "3       16\n",
              "4       25\n",
              "5       36\n",
              "6       49\n",
              "7       64\n",
              "8       81\n",
              "9      100\n",
              "10     121\n",
              "11     144\n",
              "12     169\n",
              "13     196\n",
              "14     225\n",
              "15     256\n",
              "16     289\n",
              "17     324\n",
              "18     361\n",
              "19     400\n",
              "20     441\n",
              "21     484\n",
              "22     529\n",
              "23     576\n",
              "24     625\n",
              "25     676\n",
              "26     729\n",
              "27     784\n",
              "28     841\n",
              "29     900\n",
              "30     961\n",
              "31    1024\n",
              "32    1089\n",
              "33    1156\n",
              "34    1225\n",
              "35    1296\n",
              "36    1369\n",
              "37    1444\n",
              "38    1521\n",
              "39    1600\n",
              "40    1681\n",
              "41    1764\n",
              "dtype: int32"
            ]
          },
          "execution_count": 33,
          "metadata": {},
          "output_type": "execute_result"
        }
      ],
      "source": [
        "#timesteps square values\n",
        "t_sqr=pd.Series(data=(x*x))\n",
        "t_sqr"
      ]
    },
    {
      "cell_type": "code",
      "execution_count": null,
      "id": "oPDL9YtTC2oN",
      "metadata": {
        "id": "oPDL9YtTC2oN"
      },
      "outputs": [],
      "source": [
        "#log of number of passengers\n",
        "df_raw['log_sales'] = np.log(df_raw['Sales'])"
      ]
    },
    {
      "cell_type": "code",
      "execution_count": null,
      "id": "aM7oHiCxWkqY",
      "metadata": {
        "id": "aM7oHiCxWkqY"
      },
      "outputs": [],
      "source": [
        "df_raw['t'] = t"
      ]
    },
    {
      "cell_type": "code",
      "execution_count": null,
      "id": "A2w5xFvBAZja",
      "metadata": {
        "id": "A2w5xFvBAZja"
      },
      "outputs": [],
      "source": [
        "df_raw['t_sqr'] = t_sqr"
      ]
    },
    {
      "cell_type": "code",
      "execution_count": null,
      "id": "Xmh7U0eH_XBX",
      "metadata": {
        "colab": {
          "base_uri": "https://localhost:8080/",
          "height": 206
        },
        "id": "Xmh7U0eH_XBX",
        "outputId": "f5c929e0-0635-43ae-f1de-123df1870224"
      },
      "outputs": [
        {
          "data": {
            "text/html": [
              "<div>\n",
              "<style scoped>\n",
              "    .dataframe tbody tr th:only-of-type {\n",
              "        vertical-align: middle;\n",
              "    }\n",
              "\n",
              "    .dataframe tbody tr th {\n",
              "        vertical-align: top;\n",
              "    }\n",
              "\n",
              "    .dataframe thead th {\n",
              "        text-align: right;\n",
              "    }\n",
              "</style>\n",
              "<table border=\"1\" class=\"dataframe\">\n",
              "  <thead>\n",
              "    <tr style=\"text-align: right;\">\n",
              "      <th></th>\n",
              "      <th>Sales</th>\n",
              "      <th>Date</th>\n",
              "      <th>Quarters</th>\n",
              "      <th>Q1</th>\n",
              "      <th>Q2</th>\n",
              "      <th>Q3</th>\n",
              "      <th>Q4</th>\n",
              "      <th>month</th>\n",
              "      <th>year</th>\n",
              "      <th>log_sales</th>\n",
              "      <th>t</th>\n",
              "      <th>t_sqr</th>\n",
              "    </tr>\n",
              "  </thead>\n",
              "  <tbody>\n",
              "    <tr>\n",
              "      <th>0</th>\n",
              "      <td>1734.827000</td>\n",
              "      <td>1986-01-01</td>\n",
              "      <td>Q1</td>\n",
              "      <td>1</td>\n",
              "      <td>0</td>\n",
              "      <td>0</td>\n",
              "      <td>0</td>\n",
              "      <td>Jan</td>\n",
              "      <td>1986</td>\n",
              "      <td>7.458663</td>\n",
              "      <td>1</td>\n",
              "      <td>1</td>\n",
              "    </tr>\n",
              "    <tr>\n",
              "      <th>1</th>\n",
              "      <td>2244.960999</td>\n",
              "      <td>1986-04-01</td>\n",
              "      <td>Q2</td>\n",
              "      <td>0</td>\n",
              "      <td>1</td>\n",
              "      <td>0</td>\n",
              "      <td>0</td>\n",
              "      <td>Apr</td>\n",
              "      <td>1986</td>\n",
              "      <td>7.716443</td>\n",
              "      <td>2</td>\n",
              "      <td>4</td>\n",
              "    </tr>\n",
              "    <tr>\n",
              "      <th>2</th>\n",
              "      <td>2533.804993</td>\n",
              "      <td>1986-07-01</td>\n",
              "      <td>Q3</td>\n",
              "      <td>0</td>\n",
              "      <td>0</td>\n",
              "      <td>1</td>\n",
              "      <td>0</td>\n",
              "      <td>Jul</td>\n",
              "      <td>1986</td>\n",
              "      <td>7.837477</td>\n",
              "      <td>3</td>\n",
              "      <td>9</td>\n",
              "    </tr>\n",
              "    <tr>\n",
              "      <th>3</th>\n",
              "      <td>2154.962997</td>\n",
              "      <td>1986-10-01</td>\n",
              "      <td>Q4</td>\n",
              "      <td>0</td>\n",
              "      <td>0</td>\n",
              "      <td>0</td>\n",
              "      <td>1</td>\n",
              "      <td>Oct</td>\n",
              "      <td>1986</td>\n",
              "      <td>7.675529</td>\n",
              "      <td>4</td>\n",
              "      <td>16</td>\n",
              "    </tr>\n",
              "    <tr>\n",
              "      <th>4</th>\n",
              "      <td>1547.818996</td>\n",
              "      <td>1987-01-01</td>\n",
              "      <td>Q1</td>\n",
              "      <td>1</td>\n",
              "      <td>0</td>\n",
              "      <td>0</td>\n",
              "      <td>0</td>\n",
              "      <td>Jan</td>\n",
              "      <td>1987</td>\n",
              "      <td>7.344602</td>\n",
              "      <td>5</td>\n",
              "      <td>25</td>\n",
              "    </tr>\n",
              "  </tbody>\n",
              "</table>\n",
              "</div>"
            ],
            "text/plain": [
              "         Sales       Date Quarters  Q1  Q2  Q3  Q4 month  year  log_sales  t  \\\n",
              "0  1734.827000 1986-01-01       Q1   1   0   0   0   Jan  1986   7.458663  1   \n",
              "1  2244.960999 1986-04-01       Q2   0   1   0   0   Apr  1986   7.716443  2   \n",
              "2  2533.804993 1986-07-01       Q3   0   0   1   0   Jul  1986   7.837477  3   \n",
              "3  2154.962997 1986-10-01       Q4   0   0   0   1   Oct  1986   7.675529  4   \n",
              "4  1547.818996 1987-01-01       Q1   1   0   0   0   Jan  1987   7.344602  5   \n",
              "\n",
              "   t_sqr  \n",
              "0      1  \n",
              "1      4  \n",
              "2      9  \n",
              "3     16  \n",
              "4     25  "
            ]
          },
          "execution_count": 37,
          "metadata": {},
          "output_type": "execute_result"
        }
      ],
      "source": [
        "df_raw.head()"
      ]
    },
    {
      "cell_type": "markdown",
      "id": "8zY6EoSDSj9P",
      "metadata": {
        "id": "8zY6EoSDSj9P"
      },
      "source": [
        "**Split Train and Test data**"
      ]
    },
    {
      "cell_type": "code",
      "execution_count": null,
      "id": "WngOVCnFSn2u",
      "metadata": {
        "id": "WngOVCnFSn2u"
      },
      "outputs": [],
      "source": [
        "Train = df_raw.head(30)\n",
        "Test = df_raw.tail(12)"
      ]
    },
    {
      "cell_type": "markdown",
      "id": "LmxPvkqtaxdn",
      "metadata": {
        "id": "LmxPvkqtaxdn"
      },
      "source": [
        "**Model Building**"
      ]
    },
    {
      "cell_type": "code",
      "execution_count": null,
      "id": "y7rKSgr0nyum",
      "metadata": {
        "id": "y7rKSgr0nyum"
      },
      "outputs": [],
      "source": [
        "def MAE(pred,org):\n",
        "    temp = np.abs((pred-org)/org)\n",
        "    return np.mean(temp)"
      ]
    },
    {
      "cell_type": "code",
      "execution_count": null,
      "id": "nmlL0HjxWRoe",
      "metadata": {
        "colab": {
          "base_uri": "https://localhost:8080/"
        },
        "id": "nmlL0HjxWRoe",
        "outputId": "7b099bcc-779f-4127-8f5f-734d9b7f56ae"
      },
      "outputs": [
        {
          "data": {
            "text/plain": [
              "0.15390960798745937"
            ]
          },
          "execution_count": 40,
          "metadata": {},
          "output_type": "execute_result"
        }
      ],
      "source": [
        "#Linear Model\n",
        "import statsmodels.formula.api as smf\n",
        "\n",
        "linear_model = smf.ols('Sales~t',data=Train).fit()                                                              #Fit the train model\n",
        "pred_linear =  pd.Series(linear_model.predict(pd.DataFrame(Test['t'])))                                              #predict on test data\n",
        "mae_linear = MAE(Test['Sales'],pred_linear)\n",
        "mae_linear"
      ]
    },
    {
      "cell_type": "code",
      "execution_count": null,
      "id": "wiVntFHjVu2a",
      "metadata": {
        "colab": {
          "base_uri": "https://localhost:8080/"
        },
        "id": "wiVntFHjVu2a",
        "outputId": "e7a0df4a-169a-481e-b72e-13e6ff22609b"
      },
      "outputs": [
        {
          "data": {
            "text/plain": [
              "0.11010762144393448"
            ]
          },
          "execution_count": 41,
          "metadata": {},
          "output_type": "execute_result"
        }
      ],
      "source": [
        "#Exponential\n",
        "\n",
        "Exp = smf.ols('log_sales~t',data=Train).fit()\n",
        "pred_Exp = pd.Series(Exp.predict(pd.DataFrame(Test['t'])))\n",
        "mae_Exp = MAE(Test['Sales'], np.exp(pred_Exp))\n",
        "mae_Exp"
      ]
    },
    {
      "cell_type": "code",
      "execution_count": null,
      "id": "b9CG1Al6Vuwi",
      "metadata": {
        "colab": {
          "base_uri": "https://localhost:8080/"
        },
        "id": "b9CG1Al6Vuwi",
        "outputId": "0fe967da-e700-4f36-f6b9-ce2c7cc969c8"
      },
      "outputs": [
        {
          "data": {
            "text/plain": [
              "0.10558313155976685"
            ]
          },
          "execution_count": 42,
          "metadata": {},
          "output_type": "execute_result"
        }
      ],
      "source": [
        "#Quadratic\n",
        "\n",
        "Quad = smf.ols('Sales~t+t_sqr',data=Train).fit()\n",
        "pred_Quad = pd.Series(Quad.predict(Test[[\"t\",\"t_sqr\"]]))\n",
        "mae_Quad = MAE(Test['Sales'],pred_Quad)\n",
        "mae_Quad"
      ]
    },
    {
      "cell_type": "code",
      "execution_count": null,
      "id": "zppSLBOKVuqw",
      "metadata": {
        "colab": {
          "base_uri": "https://localhost:8080/"
        },
        "id": "zppSLBOKVuqw",
        "outputId": "52945247-c7a1-46e8-c602-d2a430b63b28"
      },
      "outputs": [
        {
          "data": {
            "text/plain": [
              "0.6840229690452245"
            ]
          },
          "execution_count": 43,
          "metadata": {},
          "output_type": "execute_result"
        }
      ],
      "source": [
        "#Additive seasonality\n",
        "\n",
        "add_sea = smf.ols('Sales~Q1+Q2+Q3+Q4',data=Train).fit()\n",
        "pred_add_sea = pd.Series(add_sea.predict(Test[['Q1','Q2','Q3','Q4']]))\n",
        "mae_add_sea = MAE(Test['Sales'],pred_add_sea)\n",
        "mae_add_sea"
      ]
    },
    {
      "cell_type": "code",
      "execution_count": null,
      "id": "crbp1lYVVukV",
      "metadata": {
        "colab": {
          "base_uri": "https://localhost:8080/"
        },
        "id": "crbp1lYVVukV",
        "outputId": "af3d0327-513e-4a0d-9b0c-d4847770ee5d"
      },
      "outputs": [
        {
          "data": {
            "text/plain": [
              "0.10915490303385657"
            ]
          },
          "execution_count": 44,
          "metadata": {},
          "output_type": "execute_result"
        }
      ],
      "source": [
        "#Additive Seasonality Quadratic\n",
        "\n",
        "add_sea_Quad = smf.ols('Sales~t+t_sqr+Q1+Q2+Q3+Q4',data=Train).fit()\n",
        "pred_add_sea_quad = pd.Series(add_sea_Quad.predict(Test[['Q1','Q2','Q3','Q4','t','t_sqr']]))\n",
        "mae_add_sea_quad = MAE(Test['Sales'], pred_add_sea_quad)\n",
        "mae_add_sea_quad"
      ]
    },
    {
      "cell_type": "code",
      "execution_count": null,
      "id": "zXX6xeSnVueo",
      "metadata": {
        "colab": {
          "base_uri": "https://localhost:8080/"
        },
        "id": "zXX6xeSnVueo",
        "outputId": "3e843a50-ea6b-4d61-a82f-4f5d30324d59"
      },
      "outputs": [
        {
          "data": {
            "text/plain": [
              "0.7197711999139446"
            ]
          },
          "execution_count": 45,
          "metadata": {},
          "output_type": "execute_result"
        }
      ],
      "source": [
        "##Multiplicative Seasonality\n",
        "\n",
        "Mul_sea = smf.ols('log_sales~Q1+Q2+Q3+Q4',data = Train).fit()\n",
        "pred_Mult_sea = pd.Series(Mul_sea.predict(Test))\n",
        "mae_Mult_sea = MAE(Test['Sales'], np.exp(pred_Mult_sea))\n",
        "mae_Mult_sea"
      ]
    },
    {
      "cell_type": "code",
      "execution_count": null,
      "id": "PPO-SZ9pVuX3",
      "metadata": {
        "colab": {
          "base_uri": "https://localhost:8080/"
        },
        "id": "PPO-SZ9pVuX3",
        "outputId": "25c125c1-3f6a-4ff0-d93c-e2215e2246ec"
      },
      "outputs": [
        {
          "data": {
            "text/plain": [
              "0.09114335527296401"
            ]
          },
          "execution_count": 46,
          "metadata": {},
          "output_type": "execute_result"
        }
      ],
      "source": [
        "#Multiplicative Additive Seasonality\n",
        "\n",
        "Mul_Add_sea = smf.ols('log_sales~t+Q1+Q2+Q3+Q4',data = Train).fit()\n",
        "pred_Mult_add_sea = pd.Series(Mul_Add_sea.predict(Test))\n",
        "mae_Mult_add_sea = MAE(Test['Sales'], np.exp(pred_Mult_add_sea))\n",
        "mae_Mult_add_sea"
      ]
    },
    {
      "cell_type": "markdown",
      "id": "LLxtTJAqiSG3",
      "metadata": {
        "id": "LLxtTJAqiSG3"
      },
      "source": [
        "# **Forecasing by Data driven Model**"
      ]
    },
    {
      "cell_type": "code",
      "execution_count": null,
      "id": "SaeIookriR2T",
      "metadata": {
        "id": "SaeIookriR2T"
      },
      "outputs": [],
      "source": [
        "from statsmodels.tsa.holtwinters import SimpleExpSmoothing # SES\n",
        "from statsmodels.tsa.holtwinters import Holt # Holts Exponential Smoothing\n",
        "from statsmodels.tsa.holtwinters import ExponentialSmoothing"
      ]
    },
    {
      "cell_type": "code",
      "execution_count": null,
      "id": "tCRxqni1oJZH",
      "metadata": {
        "colab": {
          "base_uri": "https://localhost:8080/",
          "height": 206
        },
        "id": "tCRxqni1oJZH",
        "outputId": "0f54d210-df42-4a83-e036-45564366112e"
      },
      "outputs": [
        {
          "data": {
            "text/html": [
              "<div>\n",
              "<style scoped>\n",
              "    .dataframe tbody tr th:only-of-type {\n",
              "        vertical-align: middle;\n",
              "    }\n",
              "\n",
              "    .dataframe tbody tr th {\n",
              "        vertical-align: top;\n",
              "    }\n",
              "\n",
              "    .dataframe thead th {\n",
              "        text-align: right;\n",
              "    }\n",
              "</style>\n",
              "<table border=\"1\" class=\"dataframe\">\n",
              "  <thead>\n",
              "    <tr style=\"text-align: right;\">\n",
              "      <th></th>\n",
              "      <th>Quarter</th>\n",
              "      <th>Sales</th>\n",
              "      <th>Quarter_Year</th>\n",
              "      <th>Date</th>\n",
              "      <th>Quarters</th>\n",
              "    </tr>\n",
              "  </thead>\n",
              "  <tbody>\n",
              "    <tr>\n",
              "      <th>0</th>\n",
              "      <td>Q1_86</td>\n",
              "      <td>1734.827000</td>\n",
              "      <td>Q1 1986</td>\n",
              "      <td>1986-01-01</td>\n",
              "      <td>Q1</td>\n",
              "    </tr>\n",
              "    <tr>\n",
              "      <th>1</th>\n",
              "      <td>Q2_86</td>\n",
              "      <td>2244.960999</td>\n",
              "      <td>Q2 1986</td>\n",
              "      <td>1986-04-01</td>\n",
              "      <td>Q2</td>\n",
              "    </tr>\n",
              "    <tr>\n",
              "      <th>2</th>\n",
              "      <td>Q3_86</td>\n",
              "      <td>2533.804993</td>\n",
              "      <td>Q3 1986</td>\n",
              "      <td>1986-07-01</td>\n",
              "      <td>Q3</td>\n",
              "    </tr>\n",
              "    <tr>\n",
              "      <th>3</th>\n",
              "      <td>Q4_86</td>\n",
              "      <td>2154.962997</td>\n",
              "      <td>Q4 1986</td>\n",
              "      <td>1986-10-01</td>\n",
              "      <td>Q4</td>\n",
              "    </tr>\n",
              "    <tr>\n",
              "      <th>4</th>\n",
              "      <td>Q1_87</td>\n",
              "      <td>1547.818996</td>\n",
              "      <td>Q1 1987</td>\n",
              "      <td>1987-01-01</td>\n",
              "      <td>Q1</td>\n",
              "    </tr>\n",
              "  </tbody>\n",
              "</table>\n",
              "</div>"
            ],
            "text/plain": [
              "  Quarter        Sales Quarter_Year       Date Quarters\n",
              "0   Q1_86  1734.827000      Q1 1986 1986-01-01       Q1\n",
              "1   Q2_86  2244.960999      Q2 1986 1986-04-01       Q2\n",
              "2   Q3_86  2533.804993      Q3 1986 1986-07-01       Q3\n",
              "3   Q4_86  2154.962997      Q4 1986 1986-10-01       Q4\n",
              "4   Q1_87  1547.818996      Q1 1987 1987-01-01       Q1"
            ]
          },
          "execution_count": 48,
          "metadata": {},
          "output_type": "execute_result"
        }
      ],
      "source": [
        "df_coca.head()"
      ]
    },
    {
      "cell_type": "code",
      "execution_count": null,
      "id": "DEGnlnP0iy-F",
      "metadata": {
        "id": "DEGnlnP0iy-F"
      },
      "outputs": [],
      "source": [
        "Train = df_coca.head(30)\n",
        "Test = df_coca.tail(12)"
      ]
    },
    {
      "cell_type": "markdown",
      "id": "-md1B8OJkj1V",
      "metadata": {
        "id": "-md1B8OJkj1V"
      },
      "source": [
        "**Simple Exponential Method**"
      ]
    },
    {
      "cell_type": "code",
      "execution_count": null,
      "id": "Nf8AZcTvkhsT",
      "metadata": {
        "colab": {
          "base_uri": "https://localhost:8080/"
        },
        "id": "Nf8AZcTvkhsT",
        "outputId": "155a6f4b-983b-435e-dd6a-84fc4659cc99"
      },
      "outputs": [
        {
          "data": {
            "text/plain": [
              "0.22046763674416012"
            ]
          },
          "execution_count": 50,
          "metadata": {},
          "output_type": "execute_result"
        }
      ],
      "source": [
        "ses_model = SimpleExpSmoothing(Train[\"Sales\"]).fit(smoothing_level=0.2)\n",
        "pred_ses = ses_model.predict(start = Test.index[0],end = Test.index[-1])\n",
        "MAE_ses = MAE(pred_ses,Test.Sales)\n",
        "MAE_ses"
      ]
    },
    {
      "cell_type": "markdown",
      "id": "aHqgQIF4kzQH",
      "metadata": {
        "id": "aHqgQIF4kzQH"
      },
      "source": [
        "**Holt method**"
      ]
    },
    {
      "cell_type": "code",
      "execution_count": null,
      "id": "QwnLBbKhkvfg",
      "metadata": {
        "colab": {
          "base_uri": "https://localhost:8080/"
        },
        "id": "QwnLBbKhkvfg",
        "outputId": "23105c51-25f4-4fc3-9687-e72a38754891"
      },
      "outputs": [
        {
          "name": "stderr",
          "output_type": "stream",
          "text": [
            "C:\\Users\\Ayushman\\AppData\\Local\\Temp\\ipykernel_4296\\2979547204.py:2: FutureWarning: the 'smoothing_slope'' keyword is deprecated, use 'smoothing_trend' instead.\n",
            "  hw_model = Holt(Train[\"Sales\"]).fit(smoothing_level=0.8, smoothing_slope=0.2)\n"
          ]
        },
        {
          "data": {
            "text/plain": [
              "0.11213841767284942"
            ]
          },
          "execution_count": 51,
          "metadata": {},
          "output_type": "execute_result"
        }
      ],
      "source": [
        "# Holt method\n",
        "hw_model = Holt(Train[\"Sales\"]).fit(smoothing_level=0.8, smoothing_slope=0.2)\n",
        "pred_hw = hw_model.predict(start = Test.index[0],end = Test.index[-1])\n",
        "MAE_hw = MAE(pred_hw,Test.Sales)\n",
        "MAE_hw"
      ]
    },
    {
      "cell_type": "markdown",
      "id": "3cWOK_5qlC10",
      "metadata": {
        "id": "3cWOK_5qlC10"
      },
      "source": [
        "**Holts winter exponential smoothing with additive seasonality and additive trend**"
      ]
    },
    {
      "cell_type": "code",
      "execution_count": null,
      "id": "KD-4WueylHMd",
      "metadata": {
        "colab": {
          "base_uri": "https://localhost:8080/"
        },
        "id": "KD-4WueylHMd",
        "outputId": "6191ae6d-a028-4139-8dde-9789af6a62e5"
      },
      "outputs": [
        {
          "data": {
            "text/plain": [
              "0.05321405701012628"
            ]
          },
          "execution_count": 52,
          "metadata": {},
          "output_type": "execute_result"
        }
      ],
      "source": [
        "hwe_model_add_add = ExponentialSmoothing(Train[\"Sales\"],seasonal=\"add\",trend=\"add\",seasonal_periods=12).fit() #add the trend to the model\n",
        "pred_hwe_add_add = hwe_model_add_add.predict(start = Test.index[0],end = Test.index[-1])\n",
        "MAE__hwe_add_add = MAE(pred_hwe_add_add,Test.Sales)\n",
        "MAE__hwe_add_add"
      ]
    },
    {
      "cell_type": "markdown",
      "id": "uVAmtwGOlVrj",
      "metadata": {
        "id": "uVAmtwGOlVrj"
      },
      "source": [
        "**Holts winter exponential smoothing with multiplicative seasonality and additive trend**"
      ]
    },
    {
      "cell_type": "code",
      "execution_count": null,
      "id": "zMWsM12zlXDd",
      "metadata": {
        "colab": {
          "base_uri": "https://localhost:8080/"
        },
        "id": "zMWsM12zlXDd",
        "outputId": "c21e1ecf-c9f0-4c20-9ef3-f2a18519a063"
      },
      "outputs": [
        {
          "data": {
            "text/plain": [
              "0.09329399697771025"
            ]
          },
          "execution_count": 53,
          "metadata": {},
          "output_type": "execute_result"
        }
      ],
      "source": [
        "hwe_model_mul_add = ExponentialSmoothing(Train[\"Sales\"],seasonal=\"mul\",trend=\"add\",seasonal_periods=12).fit()\n",
        "pred_hwe_mul_add = hwe_model_mul_add.predict(start = Test.index[0],end = Test.index[-1])\n",
        "MAE__hwe_mul_add = MAE(pred_hwe_mul_add,Test.Sales)\n",
        "MAE__hwe_mul_add"
      ]
    },
    {
      "cell_type": "markdown",
      "id": "lA8fBd2NWLAB",
      "metadata": {
        "id": "lA8fBd2NWLAB"
      },
      "source": [
        "# **Forecasting by ARIMA Model**"
      ]
    },
    {
      "cell_type": "code",
      "execution_count": null,
      "id": "lbyZp03vWKnH",
      "metadata": {
        "id": "lbyZp03vWKnH"
      },
      "outputs": [],
      "source": [
        "from numpy import sqrt\n",
        "import warnings\n",
        "import itertools\n",
        "import statsmodels.api as sm"
      ]
    },
    {
      "cell_type": "code",
      "execution_count": null,
      "id": "4pht_wJJWa4B",
      "metadata": {
        "colab": {
          "base_uri": "https://localhost:8080/",
          "height": 206
        },
        "id": "4pht_wJJWa4B",
        "outputId": "448ba891-d7d7-481a-bf9e-ee5e132e33f5"
      },
      "outputs": [
        {
          "data": {
            "text/html": [
              "<div>\n",
              "<style scoped>\n",
              "    .dataframe tbody tr th:only-of-type {\n",
              "        vertical-align: middle;\n",
              "    }\n",
              "\n",
              "    .dataframe tbody tr th {\n",
              "        vertical-align: top;\n",
              "    }\n",
              "\n",
              "    .dataframe thead th {\n",
              "        text-align: right;\n",
              "    }\n",
              "</style>\n",
              "<table border=\"1\" class=\"dataframe\">\n",
              "  <thead>\n",
              "    <tr style=\"text-align: right;\">\n",
              "      <th></th>\n",
              "      <th>Quarter</th>\n",
              "      <th>Sales</th>\n",
              "      <th>Quarter_Year</th>\n",
              "      <th>Date</th>\n",
              "      <th>Quarters</th>\n",
              "    </tr>\n",
              "  </thead>\n",
              "  <tbody>\n",
              "    <tr>\n",
              "      <th>0</th>\n",
              "      <td>Q1_86</td>\n",
              "      <td>1734.827000</td>\n",
              "      <td>Q1 1986</td>\n",
              "      <td>1986-01-01</td>\n",
              "      <td>Q1</td>\n",
              "    </tr>\n",
              "    <tr>\n",
              "      <th>1</th>\n",
              "      <td>Q2_86</td>\n",
              "      <td>2244.960999</td>\n",
              "      <td>Q2 1986</td>\n",
              "      <td>1986-04-01</td>\n",
              "      <td>Q2</td>\n",
              "    </tr>\n",
              "    <tr>\n",
              "      <th>2</th>\n",
              "      <td>Q3_86</td>\n",
              "      <td>2533.804993</td>\n",
              "      <td>Q3 1986</td>\n",
              "      <td>1986-07-01</td>\n",
              "      <td>Q3</td>\n",
              "    </tr>\n",
              "    <tr>\n",
              "      <th>3</th>\n",
              "      <td>Q4_86</td>\n",
              "      <td>2154.962997</td>\n",
              "      <td>Q4 1986</td>\n",
              "      <td>1986-10-01</td>\n",
              "      <td>Q4</td>\n",
              "    </tr>\n",
              "    <tr>\n",
              "      <th>4</th>\n",
              "      <td>Q1_87</td>\n",
              "      <td>1547.818996</td>\n",
              "      <td>Q1 1987</td>\n",
              "      <td>1987-01-01</td>\n",
              "      <td>Q1</td>\n",
              "    </tr>\n",
              "  </tbody>\n",
              "</table>\n",
              "</div>"
            ],
            "text/plain": [
              "  Quarter        Sales Quarter_Year       Date Quarters\n",
              "0   Q1_86  1734.827000      Q1 1986 1986-01-01       Q1\n",
              "1   Q2_86  2244.960999      Q2 1986 1986-04-01       Q2\n",
              "2   Q3_86  2533.804993      Q3 1986 1986-07-01       Q3\n",
              "3   Q4_86  2154.962997      Q4 1986 1986-10-01       Q4\n",
              "4   Q1_87  1547.818996      Q1 1987 1987-01-01       Q1"
            ]
          },
          "execution_count": 55,
          "metadata": {},
          "output_type": "execute_result"
        }
      ],
      "source": [
        "df_coca.head()"
      ]
    },
    {
      "cell_type": "code",
      "execution_count": null,
      "id": "GRX1k_FvWax3",
      "metadata": {
        "colab": {
          "base_uri": "https://localhost:8080/"
        },
        "id": "GRX1k_FvWax3",
        "outputId": "c73a0660-5fbb-46a8-85a4-55520247008e"
      },
      "outputs": [
        {
          "name": "stdout",
          "output_type": "stream",
          "text": [
            "Dataset 30, Validation 12\n"
          ]
        }
      ],
      "source": [
        "# separate out a validation dataset\n",
        "split_point = len(df_coca) - 12\n",
        "dataset, validation = df_coca[0:split_point], df_coca[split_point:]\n",
        "print('Dataset %d, Validation %d' % (len(dataset), len(validation)))"
      ]
    },
    {
      "cell_type": "markdown",
      "id": "LfRc3whTXAu1",
      "metadata": {
        "id": "LfRc3whTXAu1"
      },
      "source": [
        "**Persistence/ Base model**"
      ]
    },
    {
      "cell_type": "code",
      "execution_count": null,
      "id": "EJnuu7RJYThl",
      "metadata": {
        "id": "EJnuu7RJYThl"
      },
      "outputs": [],
      "source": [
        "# evaluate a persistence model\n",
        "from sklearn.metrics import mean_squared_error\n",
        "\n",
        "# prepare data\n",
        "X = dataset.Sales.values\n",
        "X = X.astype('float32')\n",
        "train_size = int(len(X) * 0.50)\n",
        "train, test = X[0:train_size], X[train_size:]"
      ]
    },
    {
      "cell_type": "code",
      "execution_count": null,
      "id": "Lr9HQnHKeKbK",
      "metadata": {
        "colab": {
          "base_uri": "https://localhost:8080/"
        },
        "id": "Lr9HQnHKeKbK",
        "outputId": "923d76ff-7511-4042-d5cc-3caedff7ba3e"
      },
      "outputs": [
        {
          "data": {
            "text/plain": [
              "(15, 15)"
            ]
          },
          "execution_count": 58,
          "metadata": {},
          "output_type": "execute_result"
        }
      ],
      "source": [
        "train.size, test.size"
      ]
    },
    {
      "cell_type": "code",
      "execution_count": null,
      "id": "KbZl3Z09Wasa",
      "metadata": {
        "colab": {
          "base_uri": "https://localhost:8080/"
        },
        "id": "KbZl3Z09Wasa",
        "outputId": "0de9e9a6-0ca7-4e2c-8845-5418be18c3f0"
      },
      "outputs": [
        {
          "name": "stdout",
          "output_type": "stream",
          "text": [
            ">Predicted=2206.550, Expected=2173.968\n",
            ">Predicted=2173.968, Expected=2148.278\n",
            ">Predicted=2148.278, Expected=2739.308\n",
            ">Predicted=2739.308, Expected=2792.754\n",
            ">Predicted=2792.754, Expected=2556.010\n",
            ">Predicted=2556.010, Expected=2480.974\n",
            ">Predicted=2480.974, Expected=3039.523\n",
            ">Predicted=3039.523, Expected=3172.116\n",
            ">Predicted=3172.116, Expected=2879.001\n",
            ">Predicted=2879.001, Expected=2772.000\n",
            ">Predicted=2772.000, Expected=3550.000\n",
            ">Predicted=3550.000, Expected=3508.000\n",
            ">Predicted=3508.000, Expected=3243.860\n",
            ">Predicted=3243.860, Expected=3056.000\n",
            ">Predicted=3056.000, Expected=3899.000\n",
            "MAE_base: 0.089\n"
          ]
        }
      ],
      "source": [
        "# walk-forward validation\n",
        "history = [x for x in train]\n",
        "predictions = list()\n",
        "for i in range(len(test)):\n",
        "    yhat = history[-1]\n",
        "    predictions.append(yhat)\n",
        "    obs = test[i]\n",
        "    history.append(obs)\n",
        "    print('>Predicted=%.3f, Expected=%.3f' % (yhat, obs))\n",
        "# report performance\n",
        "MAE_base = MAE(predictions, test)\n",
        "print('MAE_base: %.3f' % MAE_base)"
      ]
    },
    {
      "cell_type": "markdown",
      "id": "QOaeU2PBWijV",
      "metadata": {
        "id": "QOaeU2PBWijV"
      },
      "source": [
        "**ARIMA Model**"
      ]
    },
    {
      "cell_type": "code",
      "execution_count": null,
      "id": "eOstu2moISaL",
      "metadata": {
        "colab": {
          "base_uri": "https://localhost:8080/",
          "height": 206
        },
        "id": "eOstu2moISaL",
        "outputId": "5e0eab5d-7d1e-430e-d018-4b5ad0d5662b"
      },
      "outputs": [
        {
          "data": {
            "text/html": [
              "<div>\n",
              "<style scoped>\n",
              "    .dataframe tbody tr th:only-of-type {\n",
              "        vertical-align: middle;\n",
              "    }\n",
              "\n",
              "    .dataframe tbody tr th {\n",
              "        vertical-align: top;\n",
              "    }\n",
              "\n",
              "    .dataframe thead th {\n",
              "        text-align: right;\n",
              "    }\n",
              "</style>\n",
              "<table border=\"1\" class=\"dataframe\">\n",
              "  <thead>\n",
              "    <tr style=\"text-align: right;\">\n",
              "      <th></th>\n",
              "      <th>Sales</th>\n",
              "      <th>Date</th>\n",
              "      <th>Quarters</th>\n",
              "      <th>Q1</th>\n",
              "      <th>Q2</th>\n",
              "      <th>Q3</th>\n",
              "      <th>Q4</th>\n",
              "      <th>month</th>\n",
              "      <th>year</th>\n",
              "      <th>log_sales</th>\n",
              "      <th>t</th>\n",
              "      <th>t_sqr</th>\n",
              "    </tr>\n",
              "  </thead>\n",
              "  <tbody>\n",
              "    <tr>\n",
              "      <th>0</th>\n",
              "      <td>1734.827000</td>\n",
              "      <td>1986-01-01</td>\n",
              "      <td>Q1</td>\n",
              "      <td>1</td>\n",
              "      <td>0</td>\n",
              "      <td>0</td>\n",
              "      <td>0</td>\n",
              "      <td>Jan</td>\n",
              "      <td>1986</td>\n",
              "      <td>7.458663</td>\n",
              "      <td>1</td>\n",
              "      <td>1</td>\n",
              "    </tr>\n",
              "    <tr>\n",
              "      <th>1</th>\n",
              "      <td>2244.960999</td>\n",
              "      <td>1986-04-01</td>\n",
              "      <td>Q2</td>\n",
              "      <td>0</td>\n",
              "      <td>1</td>\n",
              "      <td>0</td>\n",
              "      <td>0</td>\n",
              "      <td>Apr</td>\n",
              "      <td>1986</td>\n",
              "      <td>7.716443</td>\n",
              "      <td>2</td>\n",
              "      <td>4</td>\n",
              "    </tr>\n",
              "    <tr>\n",
              "      <th>2</th>\n",
              "      <td>2533.804993</td>\n",
              "      <td>1986-07-01</td>\n",
              "      <td>Q3</td>\n",
              "      <td>0</td>\n",
              "      <td>0</td>\n",
              "      <td>1</td>\n",
              "      <td>0</td>\n",
              "      <td>Jul</td>\n",
              "      <td>1986</td>\n",
              "      <td>7.837477</td>\n",
              "      <td>3</td>\n",
              "      <td>9</td>\n",
              "    </tr>\n",
              "    <tr>\n",
              "      <th>3</th>\n",
              "      <td>2154.962997</td>\n",
              "      <td>1986-10-01</td>\n",
              "      <td>Q4</td>\n",
              "      <td>0</td>\n",
              "      <td>0</td>\n",
              "      <td>0</td>\n",
              "      <td>1</td>\n",
              "      <td>Oct</td>\n",
              "      <td>1986</td>\n",
              "      <td>7.675529</td>\n",
              "      <td>4</td>\n",
              "      <td>16</td>\n",
              "    </tr>\n",
              "    <tr>\n",
              "      <th>4</th>\n",
              "      <td>1547.818996</td>\n",
              "      <td>1987-01-01</td>\n",
              "      <td>Q1</td>\n",
              "      <td>1</td>\n",
              "      <td>0</td>\n",
              "      <td>0</td>\n",
              "      <td>0</td>\n",
              "      <td>Jan</td>\n",
              "      <td>1987</td>\n",
              "      <td>7.344602</td>\n",
              "      <td>5</td>\n",
              "      <td>25</td>\n",
              "    </tr>\n",
              "  </tbody>\n",
              "</table>\n",
              "</div>"
            ],
            "text/plain": [
              "         Sales       Date Quarters  Q1  Q2  Q3  Q4 month  year  log_sales  t  \\\n",
              "0  1734.827000 1986-01-01       Q1   1   0   0   0   Jan  1986   7.458663  1   \n",
              "1  2244.960999 1986-04-01       Q2   0   1   0   0   Apr  1986   7.716443  2   \n",
              "2  2533.804993 1986-07-01       Q3   0   0   1   0   Jul  1986   7.837477  3   \n",
              "3  2154.962997 1986-10-01       Q4   0   0   0   1   Oct  1986   7.675529  4   \n",
              "4  1547.818996 1987-01-01       Q1   1   0   0   0   Jan  1987   7.344602  5   \n",
              "\n",
              "   t_sqr  \n",
              "0      1  \n",
              "1      4  \n",
              "2      9  \n",
              "3     16  \n",
              "4     25  "
            ]
          },
          "execution_count": 60,
          "metadata": {},
          "output_type": "execute_result"
        }
      ],
      "source": [
        "df_raw.head()"
      ]
    },
    {
      "cell_type": "code",
      "execution_count": null,
      "id": "SPIgJhLKYSpp",
      "metadata": {
        "id": "SPIgJhLKYSpp"
      },
      "outputs": [],
      "source": [
        "df_raw.drop(['Quarters', 'Q1', 'Q2', 'Q3', 'Q4','month','year','log_sales','t','t_sqr'], axis=1, inplace=True)"
      ]
    },
    {
      "cell_type": "code",
      "execution_count": null,
      "id": "eqiQcaA5b3Nc",
      "metadata": {
        "colab": {
          "base_uri": "https://localhost:8080/",
          "height": 206
        },
        "id": "eqiQcaA5b3Nc",
        "outputId": "0c01fba4-cc3f-414e-c522-8091884b5b07"
      },
      "outputs": [
        {
          "data": {
            "text/html": [
              "<div>\n",
              "<style scoped>\n",
              "    .dataframe tbody tr th:only-of-type {\n",
              "        vertical-align: middle;\n",
              "    }\n",
              "\n",
              "    .dataframe tbody tr th {\n",
              "        vertical-align: top;\n",
              "    }\n",
              "\n",
              "    .dataframe thead th {\n",
              "        text-align: right;\n",
              "    }\n",
              "</style>\n",
              "<table border=\"1\" class=\"dataframe\">\n",
              "  <thead>\n",
              "    <tr style=\"text-align: right;\">\n",
              "      <th></th>\n",
              "      <th>Sales</th>\n",
              "      <th>Date</th>\n",
              "    </tr>\n",
              "  </thead>\n",
              "  <tbody>\n",
              "    <tr>\n",
              "      <th>0</th>\n",
              "      <td>1734.827000</td>\n",
              "      <td>1986-01-01</td>\n",
              "    </tr>\n",
              "    <tr>\n",
              "      <th>1</th>\n",
              "      <td>2244.960999</td>\n",
              "      <td>1986-04-01</td>\n",
              "    </tr>\n",
              "    <tr>\n",
              "      <th>2</th>\n",
              "      <td>2533.804993</td>\n",
              "      <td>1986-07-01</td>\n",
              "    </tr>\n",
              "    <tr>\n",
              "      <th>3</th>\n",
              "      <td>2154.962997</td>\n",
              "      <td>1986-10-01</td>\n",
              "    </tr>\n",
              "    <tr>\n",
              "      <th>4</th>\n",
              "      <td>1547.818996</td>\n",
              "      <td>1987-01-01</td>\n",
              "    </tr>\n",
              "  </tbody>\n",
              "</table>\n",
              "</div>"
            ],
            "text/plain": [
              "         Sales       Date\n",
              "0  1734.827000 1986-01-01\n",
              "1  2244.960999 1986-04-01\n",
              "2  2533.804993 1986-07-01\n",
              "3  2154.962997 1986-10-01\n",
              "4  1547.818996 1987-01-01"
            ]
          },
          "execution_count": 62,
          "metadata": {},
          "output_type": "execute_result"
        }
      ],
      "source": [
        "df_raw.head()"
      ]
    },
    {
      "cell_type": "code",
      "execution_count": null,
      "id": "AirSO3JiMt_C",
      "metadata": {
        "id": "AirSO3JiMt_C"
      },
      "outputs": [],
      "source": [
        "df_raw.set_index('Date', inplace=True)"
      ]
    },
    {
      "cell_type": "code",
      "execution_count": null,
      "id": "LPyZ2vSTYSbT",
      "metadata": {
        "id": "LPyZ2vSTYSbT"
      },
      "outputs": [],
      "source": [
        "#performing test to check whether data is stationary or not\n",
        "from statsmodels.tsa.stattools import adfuller\n",
        "\n",
        "def adf_test(series):\n",
        "    result=adfuller(series)\n",
        "    print('ADF Statistics: {}'.format(result[0]))\n",
        "    print('p- value: {}'.format(result[1]))\n",
        "    if result[1] <= 0.05:\n",
        "        print(\"strong evidence against the null hypothesis, reject the null hypothesis. Data has no unit root and is stationary\")\n",
        "    else:\n",
        "        print(\"weak evidence against null hypothesis, time series has a unit root, indicating it is non-stationary \")"
      ]
    },
    {
      "cell_type": "code",
      "execution_count": null,
      "id": "EQlFMASjYR_0",
      "metadata": {
        "colab": {
          "base_uri": "https://localhost:8080/"
        },
        "id": "EQlFMASjYR_0",
        "outputId": "a681ce1e-225e-4305-a97e-8d3e714acb2a"
      },
      "outputs": [
        {
          "name": "stdout",
          "output_type": "stream",
          "text": [
            "ADF Statistics: 1.3094210153268104\n",
            "p- value: 0.9966611673930905\n",
            "weak evidence against null hypothesis, time series has a unit root, indicating it is non-stationary \n"
          ]
        }
      ],
      "source": [
        "adf_test(df_raw['Sales'])"
      ]
    },
    {
      "cell_type": "code",
      "execution_count": null,
      "id": "KpuH-U5CYR4n",
      "metadata": {
        "id": "KpuH-U5CYR4n"
      },
      "outputs": [],
      "source": [
        "## Use Techniques Differencing 1st time\n",
        "df_raw['Sales First Difference']=df_raw['Sales']-df_raw['Sales'].shift(1)"
      ]
    },
    {
      "cell_type": "code",
      "execution_count": null,
      "id": "VuQB7xH0YRx1",
      "metadata": {
        "colab": {
          "base_uri": "https://localhost:8080/"
        },
        "id": "VuQB7xH0YRx1",
        "outputId": "f6e44e4f-f278-4069-9c23-5b1dc4f74626"
      },
      "outputs": [
        {
          "name": "stdout",
          "output_type": "stream",
          "text": [
            "ADF Statistics: -2.5015370020337997\n",
            "p- value: 0.11510080332405515\n",
            "weak evidence against null hypothesis, time series has a unit root, indicating it is non-stationary \n"
          ]
        }
      ],
      "source": [
        "adf_test(df_raw['Sales First Difference'].dropna())"
      ]
    },
    {
      "cell_type": "code",
      "execution_count": null,
      "id": "o8xBnnchZUMa",
      "metadata": {
        "id": "o8xBnnchZUMa"
      },
      "outputs": [],
      "source": [
        "## Use Techniques Differencing 2nd time\n",
        "df_raw['Sales Second Difference']=df_raw['Sales First Difference']-df_raw['Sales First Difference'].shift(1)"
      ]
    },
    {
      "cell_type": "code",
      "execution_count": null,
      "id": "bE6SCWbnZUGd",
      "metadata": {
        "colab": {
          "base_uri": "https://localhost:8080/"
        },
        "id": "bE6SCWbnZUGd",
        "outputId": "f1e0f92d-6a04-4178-b5a9-dd94eafb4042"
      },
      "outputs": [
        {
          "name": "stdout",
          "output_type": "stream",
          "text": [
            "ADF Statistics: -27.63262494638169\n",
            "p- value: 0.0\n",
            "strong evidence against the null hypothesis, reject the null hypothesis. Data has no unit root and is stationary\n"
          ]
        }
      ],
      "source": [
        "adf_test(df_raw['Sales Second Difference'].dropna())"
      ]
    },
    {
      "cell_type": "markdown",
      "id": "dfoUcL1iZ5iP",
      "metadata": {
        "id": "dfoUcL1iZ5iP"
      },
      "source": [
        "- We can perform ARIMA on Sales Second Difference data as this is stationary."
      ]
    },
    {
      "cell_type": "code",
      "execution_count": null,
      "id": "hljZtPCN_c21",
      "metadata": {
        "colab": {
          "base_uri": "https://localhost:8080/",
          "height": 281
        },
        "id": "hljZtPCN_c21",
        "outputId": "0b1ec9a5-5a12-4569-87f3-617c397eb40c"
      },
      "outputs": [
        {
          "data": {
            "image/png": "[encoded data removed]",
            "text/plain": [
              "<Figure size 640x480 with 1 Axes>"
            ]
          },
          "metadata": {},
          "output_type": "display_data"
        }
      ],
      "source": [
        "acf = plot_acf(df_raw[\"Sales Second Difference\"].dropna())              #q=2/4"
      ]
    },
    {
      "cell_type": "code",
      "execution_count": null,
      "id": "joTNr4hc_kj4",
      "metadata": {
        "colab": {
          "base_uri": "https://localhost:8080/",
          "height": 281
        },
        "id": "joTNr4hc_kj4",
        "outputId": "a5f59cde-709d-42ac-a6c9-e0d0d8992484"
      },
      "outputs": [
        {
          "name": "stderr",
          "output_type": "stream",
          "text": [
            "D:\\anaconda\\Lib\\site-packages\\statsmodels\\graphics\\tsaplots.py:348: FutureWarning: The default method 'yw' can produce PACF values outside of the [-1,1] interval. After 0.13, the default will change tounadjusted Yule-Walker ('ywm'). You can use this method now by setting method='ywm'.\n",
            "  warnings.warn(\n"
          ]
        },
        {
          "data": {
            "image/png": "[encoded data removed]",
            "text/plain": [
              "<Figure size 640x480 with 1 Axes>"
            ]
          },
          "metadata": {},
          "output_type": "display_data"
        }
      ],
      "source": [
        "pacf = plot_pacf(df_raw[\"Sales Second Difference\"].dropna())              #p=2/3"
      ]
    },
    {
      "cell_type": "code",
      "execution_count": null,
      "id": "6b507414",
      "metadata": {
        "id": "6b507414",
        "outputId": "4b8d3d13-4447-4c7e-cbb8-d2f75d5660a1"
      },
      "outputs": [
        {
          "name": "stdout",
          "output_type": "stream",
          "text": [
            "Defaulting to user installation because normal site-packages is not writeable\n",
            "Requirement already satisfied: statsmodels in d:\\anaconda\\lib\\site-packages (0.13.5)\n",
            "Collecting statsmodels\n",
            "  Downloading statsmodels-0.14.0-cp311-cp311-win_amd64.whl (9.2 MB)\n",
            "                                              0.0/9.2 MB ? eta -:--:--\n",
            "                                              0.0/9.2 MB ? eta -:--:--\n",
            "                                              0.1/9.2 MB 1.3 MB/s eta 0:00:07\n",
            "                                              0.1/9.2 MB 1.3 MB/s eta 0:00:07\n",
            "                                              0.2/9.2 MB 919.0 kB/s eta 0:00:10\n",
            "                                              0.2/9.2 MB 876.1 kB/s eta 0:00:11\n",
            "                                              0.2/9.2 MB 876.1 kB/s eta 0:00:11\n",
            "     -                                        0.2/9.2 MB 801.7 kB/s eta 0:00:12\n",
            "     -                                        0.2/9.2 MB 801.7 kB/s eta 0:00:12\n",
            "     -                                        0.3/9.2 MB 710.0 kB/s eta 0:00:13\n",
            "     -                                        0.3/9.2 MB 761.4 kB/s eta 0:00:12\n",
            "     -                                        0.4/9.2 MB 791.2 kB/s eta 0:00:12\n",
            "     -                                        0.4/9.2 MB 798.7 kB/s eta 0:00:11\n",
            "     --                                       0.5/9.2 MB 887.1 kB/s eta 0:00:10\n",
            "     ---                                      0.7/9.2 MB 1.2 MB/s eta 0:00:08\n",
            "     ---                                      0.8/9.2 MB 1.3 MB/s eta 0:00:07\n",
            "     ----                                     1.0/9.2 MB 1.4 MB/s eta 0:00:06\n",
            "     -----                                    1.3/9.2 MB 1.8 MB/s eta 0:00:05\n",
            "     ------                                   1.4/9.2 MB 1.9 MB/s eta 0:00:05\n",
            "     ------                                   1.5/9.2 MB 1.9 MB/s eta 0:00:04\n",
            "     -------                                  1.8/9.2 MB 2.1 MB/s eta 0:00:04\n",
            "     --------                                 2.0/9.2 MB 2.2 MB/s eta 0:00:04\n",
            "     ---------                                2.3/9.2 MB 2.4 MB/s eta 0:00:03\n",
            "     ----------                               2.5/9.2 MB 2.5 MB/s eta 0:00:03\n",
            "     -----------                              2.7/9.2 MB 2.6 MB/s eta 0:00:03\n",
            "     -----------                              2.8/9.2 MB 2.5 MB/s eta 0:00:03\n",
            "     ------------                             2.9/9.2 MB 2.5 MB/s eta 0:00:03\n",
            "     -------------                            3.1/9.2 MB 2.7 MB/s eta 0:00:03\n",
            "     --------------                           3.3/9.2 MB 2.7 MB/s eta 0:00:03\n",
            "     ---------------                          3.5/9.2 MB 2.8 MB/s eta 0:00:03\n",
            "     ---------------                          3.5/9.2 MB 2.7 MB/s eta 0:00:03\n",
            "     ----------------                         3.7/9.2 MB 2.7 MB/s eta 0:00:03\n",
            "     -----------------                        4.0/9.2 MB 2.8 MB/s eta 0:00:02\n",
            "     ------------------                       4.3/9.2 MB 3.0 MB/s eta 0:00:02\n",
            "     -------------------                      4.5/9.2 MB 3.0 MB/s eta 0:00:02\n",
            "     --------------------                     4.6/9.2 MB 3.0 MB/s eta 0:00:02\n",
            "     ---------------------                    5.0/9.2 MB 3.2 MB/s eta 0:00:02\n",
            "     -----------------------                  5.4/9.2 MB 3.3 MB/s eta 0:00:02\n",
            "     ------------------------                 5.7/9.2 MB 3.4 MB/s eta 0:00:02\n",
            "     -------------------------                5.9/9.2 MB 3.4 MB/s eta 0:00:01\n",
            "     --------------------------               6.2/9.2 MB 3.5 MB/s eta 0:00:01\n",
            "     ----------------------------             6.5/9.2 MB 3.6 MB/s eta 0:00:01\n",
            "     -----------------------------            6.8/9.2 MB 3.6 MB/s eta 0:00:01\n",
            "     ------------------------------           7.0/9.2 MB 3.6 MB/s eta 0:00:01\n",
            "     -------------------------------          7.2/9.2 MB 3.6 MB/s eta 0:00:01\n",
            "     --------------------------------         7.4/9.2 MB 3.7 MB/s eta 0:00:01\n",
            "     ---------------------------------        7.7/9.2 MB 3.7 MB/s eta 0:00:01\n",
            "     ----------------------------------       8.0/9.2 MB 3.8 MB/s eta 0:00:01\n",
            "     ------------------------------------     8.3/9.2 MB 3.9 MB/s eta 0:00:01\n",
            "     ------------------------------------     8.4/9.2 MB 3.9 MB/s eta 0:00:01\n",
            "     -------------------------------------    8.6/9.2 MB 3.9 MB/s eta 0:00:01\n",
            "     --------------------------------------   8.8/9.2 MB 3.8 MB/s eta 0:00:01\n",
            "     ---------------------------------------  9.2/9.2 MB 3.9 MB/s eta 0:00:01\n",
            "     ---------------------------------------  9.2/9.2 MB 3.9 MB/s eta 0:00:01\n",
            "     ---------------------------------------- 9.2/9.2 MB 3.8 MB/s eta 0:00:00\n",
            "Requirement already satisfied: numpy>=1.18 in d:\\anaconda\\lib\\site-packages (from statsmodels) (1.24.3)\n",
            "Requirement already satisfied: scipy!=1.9.2,>=1.4 in d:\\anaconda\\lib\\site-packages (from statsmodels) (1.10.1)\n",
            "Requirement already satisfied: pandas>=1.0 in d:\\anaconda\\lib\\site-packages (from statsmodels) (1.5.3)\n",
            "Requirement already satisfied: patsy>=0.5.2 in d:\\anaconda\\lib\\site-packages (from statsmodels) (0.5.3)\n",
            "Requirement already satisfied: packaging>=21.3 in d:\\anaconda\\lib\\site-packages (from statsmodels) (23.0)\n",
            "Requirement already satisfied: python-dateutil>=2.8.1 in d:\\anaconda\\lib\\site-packages (from pandas>=1.0->statsmodels) (2.8.2)\n",
            "Requirement already satisfied: pytz>=2020.1 in d:\\anaconda\\lib\\site-packages (from pandas>=1.0->statsmodels) (2022.7)\n",
            "Requirement already satisfied: six in d:\\anaconda\\lib\\site-packages (from patsy>=0.5.2->statsmodels) (1.16.0)\n",
            "Installing collected packages: statsmodels\n",
            "Successfully installed statsmodels-0.14.0\n",
            "Note: you may need to restart the kernel to use updated packages.\n"
          ]
        }
      ],
      "source": [
        "pip install statsmodels --upgrade"
      ]
    },
    {
      "cell_type": "code",
      "execution_count": null,
      "id": "xGInLjJcLJ2z",
      "metadata": {
        "id": "xGInLjJcLJ2z"
      },
      "outputs": [],
      "source": [
        "# grid search ARIMA parameters for a time series\n",
        "\n",
        "import warnings\n",
        "from pandas import read_csv\n",
        "from statsmodels.tsa.arima_model import ARIMA\n",
        "\n",
        "\n",
        "# evaluate an ARIMA model for a given order (p,d,q) and return RMSE\n",
        "def evaluate_arima_model(X, arima_order):\n",
        "# prepare training dataset\n",
        "    X = X.astype('float32')\n",
        "    train_size = int(len(X) * 0.50)\n",
        "    train, test = X[0:train_size], X[train_size:]\n",
        "    history = [x for x in train]\n",
        "# make predictions\n",
        "    predictions = list()\n",
        "    for t in range(len(test)):\n",
        "        model = ARIMA.ARIMA(history, order=arima_order)\n",
        "        model_fit = model.fit(disp=0)\n",
        "        yhat = model_fit.forecast()[0]\n",
        "        predictions.append(yhat)\n",
        "        history.append(test[t])\n",
        "        MAE = np.mean(np.abs((predictions-test)/test))\n",
        "        return MAE"
      ]
    },
    {
      "cell_type": "code",
      "execution_count": null,
      "id": "C8wuMV3lLQ2I",
      "metadata": {
        "id": "C8wuMV3lLQ2I"
      },
      "outputs": [],
      "source": [
        "# evaluate combinations of p, d and q values for an ARIMA model\n",
        "def evaluate_models(dataset, p_values, d_values, q_values):\n",
        "    dataset = dataset.astype('float32')\n",
        "    best_score, best_cfg = float('inf'), None\n",
        "    for p in p_values:\n",
        "        for d in d_values:\n",
        "            for q in q_values:\n",
        "                order = (p,d,q)\n",
        "                try:\n",
        "                    MAE = evaluate_arima_model(train, order)\n",
        "                    if MAE < best_score:\n",
        "                        best_score, best_cfg = MAE, order\n",
        "                    print('ARIMA%s MAE=%.3f' % (order,MAE))\n",
        "                except:\n",
        "                    continue\n",
        "    print('Best ARIMA%s MAE=%.3f' % (best_cfg, best_score))"
      ]
    },
    {
      "cell_type": "code",
      "execution_count": null,
      "id": "EC8WV5JwN_Hb",
      "metadata": {
        "colab": {
          "base_uri": "https://localhost:8080/",
          "height": 238
        },
        "id": "EC8WV5JwN_Hb",
        "outputId": "a7c0ca19-e9ac-4a23-a4c8-06856a53d511"
      },
      "outputs": [
        {
          "data": {
            "text/html": [
              "<div>\n",
              "<style scoped>\n",
              "    .dataframe tbody tr th:only-of-type {\n",
              "        vertical-align: middle;\n",
              "    }\n",
              "\n",
              "    .dataframe tbody tr th {\n",
              "        vertical-align: top;\n",
              "    }\n",
              "\n",
              "    .dataframe thead th {\n",
              "        text-align: right;\n",
              "    }\n",
              "</style>\n",
              "<table border=\"1\" class=\"dataframe\">\n",
              "  <thead>\n",
              "    <tr style=\"text-align: right;\">\n",
              "      <th></th>\n",
              "      <th>Sales</th>\n",
              "      <th>Sales First Difference</th>\n",
              "      <th>Sales Second Difference</th>\n",
              "    </tr>\n",
              "    <tr>\n",
              "      <th>Date</th>\n",
              "      <th></th>\n",
              "      <th></th>\n",
              "      <th></th>\n",
              "    </tr>\n",
              "  </thead>\n",
              "  <tbody>\n",
              "    <tr>\n",
              "      <th>1995-04-01</th>\n",
              "      <td>4936.0</td>\n",
              "      <td>1082.0</td>\n",
              "      <td>1245.0</td>\n",
              "    </tr>\n",
              "    <tr>\n",
              "      <th>1995-07-01</th>\n",
              "      <td>4895.0</td>\n",
              "      <td>-41.0</td>\n",
              "      <td>-1123.0</td>\n",
              "    </tr>\n",
              "    <tr>\n",
              "      <th>1995-10-01</th>\n",
              "      <td>4333.0</td>\n",
              "      <td>-562.0</td>\n",
              "      <td>-521.0</td>\n",
              "    </tr>\n",
              "    <tr>\n",
              "      <th>1996-01-01</th>\n",
              "      <td>4194.0</td>\n",
              "      <td>-139.0</td>\n",
              "      <td>423.0</td>\n",
              "    </tr>\n",
              "    <tr>\n",
              "      <th>1996-04-01</th>\n",
              "      <td>5253.0</td>\n",
              "      <td>1059.0</td>\n",
              "      <td>1198.0</td>\n",
              "    </tr>\n",
              "  </tbody>\n",
              "</table>\n",
              "</div>"
            ],
            "text/plain": [
              "             Sales  Sales First Difference  Sales Second Difference\n",
              "Date                                                               \n",
              "1995-04-01  4936.0                  1082.0                   1245.0\n",
              "1995-07-01  4895.0                   -41.0                  -1123.0\n",
              "1995-10-01  4333.0                  -562.0                   -521.0\n",
              "1996-01-01  4194.0                  -139.0                    423.0\n",
              "1996-04-01  5253.0                  1059.0                   1198.0"
            ]
          },
          "execution_count": 112,
          "metadata": {},
          "output_type": "execute_result"
        }
      ],
      "source": [
        "df_raw.tail()"
      ]
    },
    {
      "cell_type": "code",
      "execution_count": null,
      "id": "mkOXgnsON0QI",
      "metadata": {
        "id": "mkOXgnsON0QI"
      },
      "outputs": [],
      "source": [
        "from datetime import datetime,timedelta\n",
        "train_dataset_end=datetime(1994,1,1)\n",
        "test_dataset_end=datetime(1996,4,1)"
      ]
    },
    {
      "cell_type": "code",
      "execution_count": null,
      "id": "wEynsd5JLzjZ",
      "metadata": {
        "id": "wEynsd5JLzjZ"
      },
      "outputs": [],
      "source": [
        "train_data=df_raw[:train_dataset_end]\n",
        "test_data=df_raw[train_dataset_end+timedelta(days=1):test_dataset_end]"
      ]
    },
    {
      "cell_type": "code",
      "execution_count": null,
      "id": "Vuylz25rLUUB",
      "metadata": {
        "colab": {
          "base_uri": "https://localhost:8080/"
        },
        "id": "Vuylz25rLUUB",
        "outputId": "a34bb060-ce6d-49e1-a7ea-e1de93db9998"
      },
      "outputs": [
        {
          "name": "stderr",
          "output_type": "stream",
          "text": [
            "UsageError: Line magic function `%%time` not found.\n"
          ]
        }
      ],
      "source": [
        "# load dataset\n",
        "%%time\n",
        "\n",
        "# evaluate parameters\n",
        "p_values = range(0, 10)\n",
        "d_values = range(0, 10)\n",
        "q_values = range(0, 10)\n",
        "warnings.filterwarnings(\"ignore\")\n",
        "evaluate_models(train_data['Sales Second Difference'].dropna(), p_values, d_values, q_values)"
      ]
    },
    {
      "cell_type": "code",
      "execution_count": null,
      "id": "-CZRgwVOQca4",
      "metadata": {
        "id": "-CZRgwVOQca4"
      },
      "outputs": [],
      "source": [
        "import statsmodels.tsa.arima.model as arima\n",
        "X = train_data.Sales.values\n",
        "X = X.astype('float32')"
      ]
    },
    {
      "cell_type": "code",
      "execution_count": null,
      "id": "837qamt-QaUu",
      "metadata": {
        "colab": {
          "base_uri": "https://localhost:8080/"
        },
        "id": "837qamt-QaUu",
        "outputId": "96fa2a19-f1bb-43cc-fee8-7c8204eea9cc"
      },
      "outputs": [
        {
          "data": {
            "text/plain": [
              "3198.825413299885"
            ]
          },
          "execution_count": 117,
          "metadata": {},
          "output_type": "execute_result"
        }
      ],
      "source": [
        "# fit model on train data\n",
        "model = arima.ARIMA(X, order=(2, 2, 0))\n",
        "model_fit = model.fit()\n",
        "forecast=model_fit.forecast(steps=9)[0]\n",
        "forecast"
      ]
    },
    {
      "cell_type": "code",
      "execution_count": null,
      "id": "QG8oU-ZVSRYq",
      "metadata": {
        "colab": {
          "base_uri": "https://localhost:8080/"
        },
        "id": "QG8oU-ZVSRYq",
        "outputId": "80e9fd47-cd20-4007-8147-a78f3c1de328"
      },
      "outputs": [
        {
          "data": {
            "text/plain": [
              "Date\n",
              "1994-04-01    4342.0\n",
              "1994-07-01    4461.0\n",
              "1994-10-01    4017.0\n",
              "1995-01-01    3854.0\n",
              "1995-04-01    4936.0\n",
              "1995-07-01    4895.0\n",
              "1995-10-01    4333.0\n",
              "1996-01-01    4194.0\n",
              "1996-04-01    5253.0\n",
              "Name: Sales, dtype: float64"
            ]
          },
          "execution_count": 118,
          "metadata": {},
          "output_type": "execute_result"
        }
      ],
      "source": [
        "test_data.Sales"
      ]
    },
    {
      "cell_type": "code",
      "execution_count": null,
      "id": "2HYbwT0JGT6n",
      "metadata": {
        "colab": {
          "base_uri": "https://localhost:8080/",
          "height": 339
        },
        "id": "2HYbwT0JGT6n",
        "outputId": "11ee74bc-4348-48d8-9241-3a4ce1585f47"
      },
      "outputs": [
        {
          "data": {
            "text/html": [
              "<table class=\"simpletable\">\n",
              "<caption>SARIMAX Results</caption>\n",
              "<tr>\n",
              "  <th>Dep. Variable:</th>           <td>y</td>        <th>  No. Observations:  </th>    <td>33</td>   \n",
              "</tr>\n",
              "<tr>\n",
              "  <th>Model:</th>            <td>ARIMA(2, 2, 0)</td>  <th>  Log Likelihood     </th> <td>-233.401</td>\n",
              "</tr>\n",
              "<tr>\n",
              "  <th>Date:</th>            <td>Sun, 19 Nov 2023</td> <th>  AIC                </th>  <td>472.802</td>\n",
              "</tr>\n",
              "<tr>\n",
              "  <th>Time:</th>                <td>20:34:04</td>     <th>  BIC                </th>  <td>477.104</td>\n",
              "</tr>\n",
              "<tr>\n",
              "  <th>Sample:</th>                  <td>0</td>        <th>  HQIC               </th>  <td>474.205</td>\n",
              "</tr>\n",
              "<tr>\n",
              "  <th></th>                       <td> - 33</td>      <th>                     </th>     <td> </td>   \n",
              "</tr>\n",
              "<tr>\n",
              "  <th>Covariance Type:</th>        <td>opg</td>       <th>                     </th>     <td> </td>   \n",
              "</tr>\n",
              "</table>\n",
              "<table class=\"simpletable\">\n",
              "<tr>\n",
              "     <td></td>       <th>coef</th>     <th>std err</th>      <th>z</th>      <th>P>|z|</th>  <th>[0.025</th>    <th>0.975]</th>  \n",
              "</tr>\n",
              "<tr>\n",
              "  <th>ar.L1</th>  <td>   -0.5353</td> <td>    0.204</td> <td>   -2.630</td> <td> 0.009</td> <td>   -0.934</td> <td>   -0.136</td>\n",
              "</tr>\n",
              "<tr>\n",
              "  <th>ar.L2</th>  <td>   -0.4561</td> <td>    0.208</td> <td>   -2.191</td> <td> 0.028</td> <td>   -0.864</td> <td>   -0.048</td>\n",
              "</tr>\n",
              "<tr>\n",
              "  <th>sigma2</th> <td> 1.912e+05</td> <td> 6.61e+04</td> <td>    2.891</td> <td> 0.004</td> <td> 6.16e+04</td> <td> 3.21e+05</td>\n",
              "</tr>\n",
              "</table>\n",
              "<table class=\"simpletable\">\n",
              "<tr>\n",
              "  <th>Ljung-Box (L1) (Q):</th>     <td>3.69</td> <th>  Jarque-Bera (JB):  </th> <td>3.27</td>\n",
              "</tr>\n",
              "<tr>\n",
              "  <th>Prob(Q):</th>                <td>0.05</td> <th>  Prob(JB):          </th> <td>0.20</td>\n",
              "</tr>\n",
              "<tr>\n",
              "  <th>Heteroskedasticity (H):</th> <td>1.05</td> <th>  Skew:              </th> <td>0.77</td>\n",
              "</tr>\n",
              "<tr>\n",
              "  <th>Prob(H) (two-sided):</th>    <td>0.94</td> <th>  Kurtosis:          </th> <td>2.59</td>\n",
              "</tr>\n",
              "</table><br/><br/>Warnings:<br/>[1] Covariance matrix calculated using the outer product of gradients (complex-step)."
            ],
            "text/plain": [
              "<class 'statsmodels.iolib.summary.Summary'>\n",
              "\"\"\"\n",
              "                               SARIMAX Results                                \n",
              "==============================================================================\n",
              "Dep. Variable:                      y   No. Observations:                   33\n",
              "Model:                 ARIMA(2, 2, 0)   Log Likelihood                -233.401\n",
              "Date:                Sun, 19 Nov 2023   AIC                            472.802\n",
              "Time:                        20:34:04   BIC                            477.104\n",
              "Sample:                             0   HQIC                           474.205\n",
              "                                 - 33                                         \n",
              "Covariance Type:                  opg                                         \n",
              "==============================================================================\n",
              "                 coef    std err          z      P>|z|      [0.025      0.975]\n",
              "------------------------------------------------------------------------------\n",
              "ar.L1         -0.5353      0.204     -2.630      0.009      -0.934      -0.136\n",
              "ar.L2         -0.4561      0.208     -2.191      0.028      -0.864      -0.048\n",
              "sigma2      1.912e+05   6.61e+04      2.891      0.004    6.16e+04    3.21e+05\n",
              "===================================================================================\n",
              "Ljung-Box (L1) (Q):                   3.69   Jarque-Bera (JB):                 3.27\n",
              "Prob(Q):                              0.05   Prob(JB):                         0.20\n",
              "Heteroskedasticity (H):               1.05   Skew:                             0.77\n",
              "Prob(H) (two-sided):                  0.94   Kurtosis:                         2.59\n",
              "===================================================================================\n",
              "\n",
              "Warnings:\n",
              "[1] Covariance matrix calculated using the outer product of gradients (complex-step).\n",
              "\"\"\""
            ]
          },
          "execution_count": 119,
          "metadata": {},
          "output_type": "execute_result"
        }
      ],
      "source": [
        "model_fit.summary()"
      ]
    },
    {
      "cell_type": "code",
      "execution_count": null,
      "id": "SyXDkeRPQo1T",
      "metadata": {
        "colab": {
          "base_uri": "https://localhost:8080/"
        },
        "id": "SyXDkeRPQo1T",
        "outputId": "1d37a447-c092-4b98-8eeb-432785c20403"
      },
      "outputs": [
        {
          "data": {
            "text/plain": [
              "0.278714695070682"
            ]
          },
          "execution_count": 120,
          "metadata": {},
          "output_type": "execute_result"
        }
      ],
      "source": [
        "#Error on the test data\n",
        "MAE_ARIMA = MAE(forecast, test_data.Sales)\n",
        "MAE_ARIMA"
      ]
    },
    {
      "cell_type": "code",
      "execution_count": null,
      "id": "3B3cXLXkVuRk",
      "metadata": {
        "colab": {
          "base_uri": "https://localhost:8080/",
          "height": 457
        },
        "id": "3B3cXLXkVuRk",
        "outputId": "d976d36b-46c3-4462-8787-7c3f427600f6"
      },
      "outputs": [
        {
          "data": {
            "text/html": [
              "<div>\n",
              "<style scoped>\n",
              "    .dataframe tbody tr th:only-of-type {\n",
              "        vertical-align: middle;\n",
              "    }\n",
              "\n",
              "    .dataframe tbody tr th {\n",
              "        vertical-align: top;\n",
              "    }\n",
              "\n",
              "    .dataframe thead th {\n",
              "        text-align: right;\n",
              "    }\n",
              "</style>\n",
              "<table border=\"1\" class=\"dataframe\">\n",
              "  <thead>\n",
              "    <tr style=\"text-align: right;\">\n",
              "      <th></th>\n",
              "      <th>MODEL</th>\n",
              "      <th>MAE_Values</th>\n",
              "    </tr>\n",
              "  </thead>\n",
              "  <tbody>\n",
              "    <tr>\n",
              "      <th>9</th>\n",
              "      <td>MAE_hwe_add_add</td>\n",
              "      <td>0.053214</td>\n",
              "    </tr>\n",
              "    <tr>\n",
              "      <th>11</th>\n",
              "      <td>MAE_base</td>\n",
              "      <td>0.089395</td>\n",
              "    </tr>\n",
              "    <tr>\n",
              "      <th>6</th>\n",
              "      <td>MAE_Mult_add_sea</td>\n",
              "      <td>0.091143</td>\n",
              "    </tr>\n",
              "    <tr>\n",
              "      <th>10</th>\n",
              "      <td>MAE_hwe_mul_add</td>\n",
              "      <td>0.093294</td>\n",
              "    </tr>\n",
              "    <tr>\n",
              "      <th>2</th>\n",
              "      <td>MAE_Quad</td>\n",
              "      <td>0.105583</td>\n",
              "    </tr>\n",
              "    <tr>\n",
              "      <th>4</th>\n",
              "      <td>MAE_add_sea_quad</td>\n",
              "      <td>0.109155</td>\n",
              "    </tr>\n",
              "    <tr>\n",
              "      <th>1</th>\n",
              "      <td>MAE_Exp</td>\n",
              "      <td>0.110108</td>\n",
              "    </tr>\n",
              "    <tr>\n",
              "      <th>8</th>\n",
              "      <td>MAE_hw</td>\n",
              "      <td>0.112138</td>\n",
              "    </tr>\n",
              "    <tr>\n",
              "      <th>0</th>\n",
              "      <td>MAE_linear</td>\n",
              "      <td>0.153910</td>\n",
              "    </tr>\n",
              "    <tr>\n",
              "      <th>7</th>\n",
              "      <td>MAE_ses</td>\n",
              "      <td>0.220468</td>\n",
              "    </tr>\n",
              "    <tr>\n",
              "      <th>12</th>\n",
              "      <td>MAE_ARIMA</td>\n",
              "      <td>0.278715</td>\n",
              "    </tr>\n",
              "    <tr>\n",
              "      <th>3</th>\n",
              "      <td>MAE_add_sea</td>\n",
              "      <td>0.684023</td>\n",
              "    </tr>\n",
              "    <tr>\n",
              "      <th>5</th>\n",
              "      <td>MAE_Mult_sea</td>\n",
              "      <td>0.719771</td>\n",
              "    </tr>\n",
              "  </tbody>\n",
              "</table>\n",
              "</div>"
            ],
            "text/plain": [
              "               MODEL  MAE_Values\n",
              "9    MAE_hwe_add_add    0.053214\n",
              "11          MAE_base    0.089395\n",
              "6   MAE_Mult_add_sea    0.091143\n",
              "10   MAE_hwe_mul_add    0.093294\n",
              "2           MAE_Quad    0.105583\n",
              "4   MAE_add_sea_quad    0.109155\n",
              "1            MAE_Exp    0.110108\n",
              "8             MAE_hw    0.112138\n",
              "0         MAE_linear    0.153910\n",
              "7            MAE_ses    0.220468\n",
              "12         MAE_ARIMA    0.278715\n",
              "3        MAE_add_sea    0.684023\n",
              "5       MAE_Mult_sea    0.719771"
            ]
          },
          "execution_count": 121,
          "metadata": {},
          "output_type": "execute_result"
        }
      ],
      "source": [
        "#Compare the results\n",
        "\n",
        "data = {\"MODEL\":pd.Series([\"MAE_linear\",\"MAE_Exp\",\"MAE_Quad\",\"MAE_add_sea\",\"MAE_add_sea_quad\",\"MAE_Mult_sea\",\"MAE_Mult_add_sea\",\"MAE_ses\",\"MAE_hw\",\"MAE_hwe_add_add\",\"MAE_hwe_mul_add\",\"MAE_base\",\"MAE_ARIMA\"]),\"MAE_Values\":pd.Series([mae_linear,mae_Exp,mae_Quad,mae_add_sea,mae_add_sea_quad,mae_Mult_sea,mae_Mult_add_sea,MAE_ses,MAE_hw,MAE__hwe_add_add,MAE__hwe_mul_add,MAE_base,MAE_ARIMA])}\n",
        "table_mae=pd.DataFrame(data)\n",
        "table_mae.sort_values(['MAE_Values'])"
      ]
    },
    {
      "cell_type": "markdown",
      "id": "CDCC_AJikFXE",
      "metadata": {
        "id": "CDCC_AJikFXE"
      },
      "source": [
        "From all the models created we can see here ***Holts winter exponential smoothing with multiplicative seasonality and additive trend*** giving us best results as the Test MAE is the lowest for this data.\n",
        "\n",
        "- Let us build a model and forecast for quarters of Q3 96 - Q3 06."
      ]
    },
    {
      "cell_type": "markdown",
      "id": "IYo9jaOnGbiU",
      "metadata": {
        "id": "IYo9jaOnGbiU"
      },
      "source": [
        "**Predict on new data**"
      ]
    },
    {
      "cell_type": "code",
      "execution_count": null,
      "id": "GrRJYvwMkEwB",
      "metadata": {
        "id": "GrRJYvwMkEwB"
      },
      "outputs": [],
      "source": [
        "Test = df_coca.tail(12)"
      ]
    },
    {
      "cell_type": "code",
      "execution_count": null,
      "id": "KECbHV2ANCJM",
      "metadata": {
        "id": "KECbHV2ANCJM"
      },
      "outputs": [],
      "source": [
        "Test.to_csv('predict_data_coca.csv')\n",
        "#Editted the test data a little to forecast passengers for year 2003"
      ]
    },
    {
      "cell_type": "code",
      "execution_count": null,
      "id": "WbNbUHG-NB8I",
      "metadata": {
        "colab": {
          "base_uri": "https://localhost:8080/",
          "height": 206
        },
        "id": "WbNbUHG-NB8I",
        "outputId": "c86d9b78-70b2-4192-8dcf-c5d8d7cb7b5a"
      },
      "outputs": [
        {
          "data": {
            "text/html": [
              "<div>\n",
              "<style scoped>\n",
              "    .dataframe tbody tr th:only-of-type {\n",
              "        vertical-align: middle;\n",
              "    }\n",
              "\n",
              "    .dataframe tbody tr th {\n",
              "        vertical-align: top;\n",
              "    }\n",
              "\n",
              "    .dataframe thead th {\n",
              "        text-align: right;\n",
              "    }\n",
              "</style>\n",
              "<table border=\"1\" class=\"dataframe\">\n",
              "  <thead>\n",
              "    <tr style=\"text-align: right;\">\n",
              "      <th></th>\n",
              "      <th>Unnamed: 0</th>\n",
              "      <th>Quarter</th>\n",
              "      <th>Sales</th>\n",
              "      <th>Quarter_Year</th>\n",
              "      <th>Date</th>\n",
              "      <th>Quarters</th>\n",
              "      <th>forecast_sales</th>\n",
              "    </tr>\n",
              "  </thead>\n",
              "  <tbody>\n",
              "    <tr>\n",
              "      <th>0</th>\n",
              "      <td>30</td>\n",
              "      <td>Q3_93</td>\n",
              "      <td>3629.0</td>\n",
              "      <td>Q3 1993</td>\n",
              "      <td>1993-07-01</td>\n",
              "      <td>Q3</td>\n",
              "      <td>3725.206407</td>\n",
              "    </tr>\n",
              "    <tr>\n",
              "      <th>1</th>\n",
              "      <td>31</td>\n",
              "      <td>Q4_93</td>\n",
              "      <td>3373.0</td>\n",
              "      <td>Q4 1993</td>\n",
              "      <td>1993-10-01</td>\n",
              "      <td>Q4</td>\n",
              "      <td>3376.334002</td>\n",
              "    </tr>\n",
              "    <tr>\n",
              "      <th>2</th>\n",
              "      <td>32</td>\n",
              "      <td>Q1_94</td>\n",
              "      <td>3352.0</td>\n",
              "      <td>Q1 1994</td>\n",
              "      <td>1994-01-01</td>\n",
              "      <td>Q1</td>\n",
              "      <td>3269.005114</td>\n",
              "    </tr>\n",
              "    <tr>\n",
              "      <th>3</th>\n",
              "      <td>33</td>\n",
              "      <td>Q2_94</td>\n",
              "      <td>4342.0</td>\n",
              "      <td>Q2 1994</td>\n",
              "      <td>1994-04-01</td>\n",
              "      <td>Q2</td>\n",
              "      <td>4208.319000</td>\n",
              "    </tr>\n",
              "    <tr>\n",
              "      <th>4</th>\n",
              "      <td>34</td>\n",
              "      <td>Q3_94</td>\n",
              "      <td>4461.0</td>\n",
              "      <td>Q3 1994</td>\n",
              "      <td>1994-07-01</td>\n",
              "      <td>Q3</td>\n",
              "      <td>4372.813618</td>\n",
              "    </tr>\n",
              "  </tbody>\n",
              "</table>\n",
              "</div>"
            ],
            "text/plain": [
              "   Unnamed: 0 Quarter   Sales Quarter_Year        Date Quarters  \\\n",
              "0          30   Q3_93  3629.0      Q3 1993  1993-07-01       Q3   \n",
              "1          31   Q4_93  3373.0      Q4 1993  1993-10-01       Q4   \n",
              "2          32   Q1_94  3352.0      Q1 1994  1994-01-01       Q1   \n",
              "3          33   Q2_94  4342.0      Q2 1994  1994-04-01       Q2   \n",
              "4          34   Q3_94  4461.0      Q3 1994  1994-07-01       Q3   \n",
              "\n",
              "   forecast_sales  \n",
              "0     3725.206407  \n",
              "1     3376.334002  \n",
              "2     3269.005114  \n",
              "3     4208.319000  \n",
              "4     4372.813618  "
            ]
          },
          "execution_count": 124,
          "metadata": {},
          "output_type": "execute_result"
        }
      ],
      "source": [
        "#We will try to predict the data for the whole yearr of 2022\n",
        "predict_data = pd.read_csv('predict_data_coca.csv')\n",
        "predict_data.head()"
      ]
    },
    {
      "cell_type": "code",
      "execution_count": null,
      "id": "xln8ursuNB2z",
      "metadata": {
        "colab": {
          "base_uri": "https://localhost:8080/"
        },
        "id": "xln8ursuNB2z",
        "outputId": "9a3bb68d-2909-48e5-df5a-2e55d1fd1ed2"
      },
      "outputs": [
        {
          "name": "stdout",
          "output_type": "stream",
          "text": [
            "<class 'pandas.core.frame.DataFrame'>\n",
            "RangeIndex: 12 entries, 0 to 11\n",
            "Data columns (total 7 columns):\n",
            " #   Column          Non-Null Count  Dtype  \n",
            "---  ------          --------------  -----  \n",
            " 0   Unnamed: 0      12 non-null     int64  \n",
            " 1   Quarter         12 non-null     object \n",
            " 2   Sales           12 non-null     float64\n",
            " 3   Quarter_Year    12 non-null     object \n",
            " 4   Date            12 non-null     object \n",
            " 5   Quarters        12 non-null     object \n",
            " 6   forecast_sales  12 non-null     float64\n",
            "dtypes: float64(2), int64(1), object(4)\n",
            "memory usage: 804.0+ bytes\n"
          ]
        }
      ],
      "source": [
        "predict_data.info()"
      ]
    },
    {
      "cell_type": "code",
      "execution_count": null,
      "id": "nCdoCx_yNBrg",
      "metadata": {
        "id": "nCdoCx_yNBrg"
      },
      "outputs": [],
      "source": [
        "#Convert Month column dtype to datetime64\n",
        "predict_data['Date'] = predict_data['Date'].astype(\"datetime64[ns]\")"
      ]
    },
    {
      "cell_type": "code",
      "execution_count": null,
      "id": "rGBzSv9GNBkd",
      "metadata": {
        "colab": {
          "base_uri": "https://localhost:8080/"
        },
        "id": "rGBzSv9GNBkd",
        "outputId": "57dfec89-e559-46ce-caa5-79dd65adddd7"
      },
      "outputs": [
        {
          "name": "stdout",
          "output_type": "stream",
          "text": [
            "<class 'pandas.core.frame.DataFrame'>\n",
            "RangeIndex: 12 entries, 0 to 11\n",
            "Data columns (total 7 columns):\n",
            " #   Column          Non-Null Count  Dtype         \n",
            "---  ------          --------------  -----         \n",
            " 0   Unnamed: 0      12 non-null     int64         \n",
            " 1   Quarter         12 non-null     object        \n",
            " 2   Sales           12 non-null     float64       \n",
            " 3   Quarter_Year    12 non-null     object        \n",
            " 4   Date            12 non-null     datetime64[ns]\n",
            " 5   Quarters        12 non-null     object        \n",
            " 6   forecast_sales  12 non-null     float64       \n",
            "dtypes: datetime64[ns](1), float64(2), int64(1), object(3)\n",
            "memory usage: 804.0+ bytes\n"
          ]
        }
      ],
      "source": [
        "predict_data.info()"
      ]
    },
    {
      "cell_type": "code",
      "execution_count": null,
      "id": "kWaojoMJNBes",
      "metadata": {
        "id": "kWaojoMJNBes"
      },
      "outputs": [],
      "source": [
        "final_model = ExponentialSmoothing(df_coca[\"Sales\"],seasonal=\"mul\",trend=\"add\",seasonal_periods=12).fit()"
      ]
    },
    {
      "cell_type": "code",
      "execution_count": null,
      "id": "JDz_i0zCJZpI",
      "metadata": {
        "colab": {
          "base_uri": "https://localhost:8080/"
        },
        "id": "JDz_i0zCJZpI",
        "outputId": "27d670dd-084e-4891-b474-3abf1ffe0349"
      },
      "outputs": [
        {
          "data": {
            "text/plain": [
              "0     1742.716168\n",
              "1     2237.373510\n",
              "2     2265.365235\n",
              "3     2292.666979\n",
              "4     2049.376857\n",
              "5     2020.284009\n",
              "6     2012.596629\n",
              "7     1881.945143\n",
              "8     1940.212627\n",
              "9     2374.718573\n",
              "10    2350.662804\n",
              "11    1938.613508\n",
              "dtype: float64"
            ]
          },
          "execution_count": 129,
          "metadata": {},
          "output_type": "execute_result"
        }
      ],
      "source": [
        "#this give us log_passengers\n",
        "pred_new  = pd.Series(final_model.predict(start = predict_data.index[0], end = predict_data.index[-1]))\n",
        "pred_new"
      ]
    },
    {
      "cell_type": "code",
      "execution_count": null,
      "id": "-9OcX7UHNyrX",
      "metadata": {
        "id": "-9OcX7UHNyrX"
      },
      "outputs": [],
      "source": [
        "predict_data[\"Sales\"] = pred_new"
      ]
    },
    {
      "cell_type": "code",
      "execution_count": null,
      "id": "M9H5GZwpJZdV",
      "metadata": {
        "colab": {
          "base_uri": "https://localhost:8080/",
          "height": 1000
        },
        "id": "M9H5GZwpJZdV",
        "outputId": "ac226217-ca7d-49f9-e265-f8b2e361a062"
      },
      "outputs": [
        {
          "data": {
            "text/html": [
              "<div>\n",
              "<style scoped>\n",
              "    .dataframe tbody tr th:only-of-type {\n",
              "        vertical-align: middle;\n",
              "    }\n",
              "\n",
              "    .dataframe tbody tr th {\n",
              "        vertical-align: top;\n",
              "    }\n",
              "\n",
              "    .dataframe thead th {\n",
              "        text-align: right;\n",
              "    }\n",
              "</style>\n",
              "<table border=\"1\" class=\"dataframe\">\n",
              "  <thead>\n",
              "    <tr style=\"text-align: right;\">\n",
              "      <th></th>\n",
              "      <th>Unnamed: 0</th>\n",
              "      <th>Quarter</th>\n",
              "      <th>Sales</th>\n",
              "      <th>Quarter_Year</th>\n",
              "      <th>Date</th>\n",
              "      <th>Quarters</th>\n",
              "      <th>forecast_sales</th>\n",
              "    </tr>\n",
              "  </thead>\n",
              "  <tbody>\n",
              "    <tr>\n",
              "      <th>0</th>\n",
              "      <td>30</td>\n",
              "      <td>Q3_93</td>\n",
              "      <td>1742.716168</td>\n",
              "      <td>Q3 1993</td>\n",
              "      <td>1993-07-01</td>\n",
              "      <td>Q3</td>\n",
              "      <td>3725.206407</td>\n",
              "    </tr>\n",
              "    <tr>\n",
              "      <th>1</th>\n",
              "      <td>31</td>\n",
              "      <td>Q4_93</td>\n",
              "      <td>2237.373510</td>\n",
              "      <td>Q4 1993</td>\n",
              "      <td>1993-10-01</td>\n",
              "      <td>Q4</td>\n",
              "      <td>3376.334002</td>\n",
              "    </tr>\n",
              "    <tr>\n",
              "      <th>2</th>\n",
              "      <td>32</td>\n",
              "      <td>Q1_94</td>\n",
              "      <td>2265.365235</td>\n",
              "      <td>Q1 1994</td>\n",
              "      <td>1994-01-01</td>\n",
              "      <td>Q1</td>\n",
              "      <td>3269.005114</td>\n",
              "    </tr>\n",
              "    <tr>\n",
              "      <th>3</th>\n",
              "      <td>33</td>\n",
              "      <td>Q2_94</td>\n",
              "      <td>2292.666979</td>\n",
              "      <td>Q2 1994</td>\n",
              "      <td>1994-04-01</td>\n",
              "      <td>Q2</td>\n",
              "      <td>4208.319000</td>\n",
              "    </tr>\n",
              "    <tr>\n",
              "      <th>4</th>\n",
              "      <td>34</td>\n",
              "      <td>Q3_94</td>\n",
              "      <td>2049.376857</td>\n",
              "      <td>Q3 1994</td>\n",
              "      <td>1994-07-01</td>\n",
              "      <td>Q3</td>\n",
              "      <td>4372.813618</td>\n",
              "    </tr>\n",
              "    <tr>\n",
              "      <th>5</th>\n",
              "      <td>35</td>\n",
              "      <td>Q4_94</td>\n",
              "      <td>2020.284009</td>\n",
              "      <td>Q4 1994</td>\n",
              "      <td>1994-10-01</td>\n",
              "      <td>Q4</td>\n",
              "      <td>4036.969840</td>\n",
              "    </tr>\n",
              "    <tr>\n",
              "      <th>6</th>\n",
              "      <td>36</td>\n",
              "      <td>Q1_95</td>\n",
              "      <td>2012.596629</td>\n",
              "      <td>Q1 1995</td>\n",
              "      <td>1995-01-01</td>\n",
              "      <td>Q1</td>\n",
              "      <td>3831.650519</td>\n",
              "    </tr>\n",
              "    <tr>\n",
              "      <th>7</th>\n",
              "      <td>37</td>\n",
              "      <td>Q2_95</td>\n",
              "      <td>1881.945143</td>\n",
              "      <td>Q2 1995</td>\n",
              "      <td>1995-04-01</td>\n",
              "      <td>Q2</td>\n",
              "      <td>4881.307029</td>\n",
              "    </tr>\n",
              "    <tr>\n",
              "      <th>8</th>\n",
              "      <td>38</td>\n",
              "      <td>Q3_95</td>\n",
              "      <td>1940.212627</td>\n",
              "      <td>Q3 1995</td>\n",
              "      <td>1995-07-01</td>\n",
              "      <td>Q3</td>\n",
              "      <td>4918.208791</td>\n",
              "    </tr>\n",
              "    <tr>\n",
              "      <th>9</th>\n",
              "      <td>39</td>\n",
              "      <td>Q4_95</td>\n",
              "      <td>2374.718573</td>\n",
              "      <td>Q4 1995</td>\n",
              "      <td>1995-10-01</td>\n",
              "      <td>Q4</td>\n",
              "      <td>4406.326245</td>\n",
              "    </tr>\n",
              "    <tr>\n",
              "      <th>10</th>\n",
              "      <td>40</td>\n",
              "      <td>Q1_96</td>\n",
              "      <td>2350.662804</td>\n",
              "      <td>Q1 1996</td>\n",
              "      <td>1996-01-01</td>\n",
              "      <td>Q1</td>\n",
              "      <td>4004.913377</td>\n",
              "    </tr>\n",
              "    <tr>\n",
              "      <th>11</th>\n",
              "      <td>41</td>\n",
              "      <td>Q2_96</td>\n",
              "      <td>1938.613508</td>\n",
              "      <td>Q2 1996</td>\n",
              "      <td>1996-04-01</td>\n",
              "      <td>Q2</td>\n",
              "      <td>5293.559588</td>\n",
              "    </tr>\n",
              "  </tbody>\n",
              "</table>\n",
              "</div>"
            ],
            "text/plain": [
              "    Unnamed: 0 Quarter        Sales Quarter_Year       Date Quarters  \\\n",
              "0           30   Q3_93  1742.716168      Q3 1993 1993-07-01       Q3   \n",
              "1           31   Q4_93  2237.373510      Q4 1993 1993-10-01       Q4   \n",
              "2           32   Q1_94  2265.365235      Q1 1994 1994-01-01       Q1   \n",
              "3           33   Q2_94  2292.666979      Q2 1994 1994-04-01       Q2   \n",
              "4           34   Q3_94  2049.376857      Q3 1994 1994-07-01       Q3   \n",
              "5           35   Q4_94  2020.284009      Q4 1994 1994-10-01       Q4   \n",
              "6           36   Q1_95  2012.596629      Q1 1995 1995-01-01       Q1   \n",
              "7           37   Q2_95  1881.945143      Q2 1995 1995-04-01       Q2   \n",
              "8           38   Q3_95  1940.212627      Q3 1995 1995-07-01       Q3   \n",
              "9           39   Q4_95  2374.718573      Q4 1995 1995-10-01       Q4   \n",
              "10          40   Q1_96  2350.662804      Q1 1996 1996-01-01       Q1   \n",
              "11          41   Q2_96  1938.613508      Q2 1996 1996-04-01       Q2   \n",
              "\n",
              "    forecast_sales  \n",
              "0      3725.206407  \n",
              "1      3376.334002  \n",
              "2      3269.005114  \n",
              "3      4208.319000  \n",
              "4      4372.813618  \n",
              "5      4036.969840  \n",
              "6      3831.650519  \n",
              "7      4881.307029  \n",
              "8      4918.208791  \n",
              "9      4406.326245  \n",
              "10     4004.913377  \n",
              "11     5293.559588  "
            ]
          },
          "execution_count": 131,
          "metadata": {},
          "output_type": "execute_result"
        }
      ],
      "source": [
        "predict_data"
      ]
    },
    {
      "cell_type": "markdown",
      "id": "BL37S_kwN_oK",
      "metadata": {
        "id": "BL37S_kwN_oK"
      },
      "source": [
        "- So this our predicted Cocacola Sales data from Q2 96 - Q3 06.\n",
        "\n"
      ]
    },
    {
      "cell_type": "markdown",
      "id": "nLXGhUdFdPFC",
      "metadata": {
        "id": "nLXGhUdFdPFC"
      },
      "source": [
        "- Just to reflect accuracy of our model by plot 👇"
      ]
    },
    {
      "cell_type": "code",
      "execution_count": null,
      "id": "6Zixo7aAQ-Wk",
      "metadata": {
        "colab": {
          "base_uri": "https://localhost:8080/",
          "height": 500
        },
        "id": "6Zixo7aAQ-Wk",
        "outputId": "5943a1dc-ca2e-484e-b31a-535968f0e0a9"
      },
      "outputs": [
        {
          "data": {
            "text/plain": [
              "<Axes: >"
            ]
          },
          "execution_count": 132,
          "metadata": {},
          "output_type": "execute_result"
        },
        {
          "data": {
            "image/png": "[encoded data removed]",
            "text/plain": [
              "<Figure size 1200x800 with 1 Axes>"
            ]
          },
          "metadata": {},
          "output_type": "display_data"
        }
      ],
      "source": [
        "df_coca['forecast_sales']=pd.Series(final_model.predict(start = df_coca.index[0], end = df_coca.index[-1]))\n",
        "df_coca[['forecast_sales','Sales']].plot(figsize=(12,8))"
      ]
    }
  ],
  "metadata": {
    "colab": {
      "provenance": [],
      "include_colab_link": true
    },
    "kernelspec": {
      "display_name": "Python 3 (ipykernel)",
      "language": "python",
      "name": "python3"
    },
    "language_info": {
      "codemirror_mode": {
        "name": "ipython",
        "version": 3
      },
      "file_extension": ".py",
      "mimetype": "text/x-python",
      "name": "python",
      "nbconvert_exporter": "python",
      "pygments_lexer": "ipython3",
      "version": "3.11.3"
    }
  },
  "nbformat": 4,
  "nbformat_minor": 5
}